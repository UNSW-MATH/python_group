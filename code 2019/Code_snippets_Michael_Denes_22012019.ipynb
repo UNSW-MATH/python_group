{
 "cells": [
  {
   "cell_type": "code",
   "execution_count": 1,
   "metadata": {},
   "outputs": [],
   "source": [
    "import numpy as np\n",
    "import matplotlib.pyplot as plt"
   ]
  },
  {
   "cell_type": "markdown",
   "metadata": {},
   "source": [
    "# Saving/Loading Data with Numpy\n",
    "\n",
    "Numpy has a few different saving methods built in. Two important methods are np.save() and np.savez(). The save method will save a single array to a binary file in the .npy format, while the savez method will save multiple arrays to single file in an uncompressed .npz format. There is also a savez_compressed method that will save multiple arrays into a single file in a compressed .npz format.\n",
    "\n",
    "Both savez and savez_compressed do not save the variables names, but instead store each variable as 'arr_0', 'arr_1', and so on... so it may be useful to store the variable names as the first array (see below)."
   ]
  },
  {
   "cell_type": "code",
   "execution_count": 2,
   "metadata": {},
   "outputs": [],
   "source": [
    "#A numpy array of coordinates\n",
    "coordinates = np.asarray([[0,0], [3,1], [6,4], [9,15], [10,20]])"
   ]
  },
  {
   "cell_type": "code",
   "execution_count": 3,
   "metadata": {},
   "outputs": [],
   "source": [
    "#A numpy array of values for our above coordinates\n",
    "valueSet = np.asarray([25, 30, 100, 13, -5])"
   ]
  },
  {
   "cell_type": "code",
   "execution_count": 4,
   "metadata": {},
   "outputs": [
    {
     "data": {
      "image/png": "[encoded data removed]",
      "text/plain": [
       "<Figure size 432x288 with 2 Axes>"
      ]
     },
     "metadata": {
      "needs_background": "light"
     },
     "output_type": "display_data"
    }
   ],
   "source": [
    "#Get an idea of the data\n",
    "plt.scatter(coordinates[:,0], coordinates[:,1], c = valueSet)\n",
    "plt.colorbar()\n",
    "plt.show()"
   ]
  },
  {
   "cell_type": "code",
   "execution_count": 5,
   "metadata": {},
   "outputs": [],
   "source": [
    "#Create an array of the variable names so it's easy to identify the data later\n",
    "variableNames = np.asarray(['coordinates', 'valueset'])\n",
    "\n",
    "#Save the data\n",
    "#Reference: https://docs.scipy.org/doc/numpy-1.15.0/reference/generated/numpy.savez.html#numpy.savez\n",
    "np.savez('myData.npz', variableNames, coordinates, valueSet)"
   ]
  },
  {
   "cell_type": "code",
   "execution_count": 6,
   "metadata": {},
   "outputs": [],
   "source": [
    "#Load the data\n",
    "#Reference: https://docs.scipy.org/doc/numpy-1.15.0/reference/generated/numpy.load.html#numpy.load\n",
    "loadedData = np.load('myData.npz')"
   ]
  },
  {
   "cell_type": "code",
   "execution_count": 7,
   "metadata": {},
   "outputs": [
    {
     "name": "stdout",
     "output_type": "stream",
     "text": [
      "Variable        Type       Data/Info\n",
      "------------------------------------\n",
      "coordinates     ndarray    5x2: 10 elems, type `int64`, 80 bytes\n",
      "loadedData      NpzFile    <numpy.lib.npyio.NpzFile <...>object at 0x7fc958461ef0>\n",
      "np              module     <module 'numpy' from '/us<...>kages/numpy/__init__.py'>\n",
      "plt             module     <module 'matplotlib.pyplo<...>es/matplotlib/pyplot.py'>\n",
      "valueSet        ndarray    5: 5 elems, type `int64`, 40 bytes\n",
      "variableNames   ndarray    2: 2 elems, type `<U11`, 88 bytes\n"
     ]
    }
   ],
   "source": [
    "whos"
   ]
  },
  {
   "cell_type": "code",
   "execution_count": 8,
   "metadata": {},
   "outputs": [
    {
     "name": "stdout",
     "output_type": "stream",
     "text": [
      "['arr_0', 'arr_1', 'arr_2']\n"
     ]
    }
   ],
   "source": [
    "print(loadedData.files)"
   ]
  },
  {
   "cell_type": "code",
   "execution_count": 9,
   "metadata": {},
   "outputs": [
    {
     "name": "stdout",
     "output_type": "stream",
     "text": [
      "['coordinates' 'valueset']\n"
     ]
    }
   ],
   "source": [
    "print(loadedData['arr_0'])"
   ]
  },
  {
   "cell_type": "code",
   "execution_count": 10,
   "metadata": {},
   "outputs": [
    {
     "name": "stdout",
     "output_type": "stream",
     "text": [
      "Coordinate data loaded correctly\n",
      "Value set data loaded correctly\n"
     ]
    }
   ],
   "source": [
    "loadedCoordinates = loadedData['arr_1']\n",
    "loadedValueSet = loadedData['arr_2']\n",
    "\n",
    "#Check integrity of data\n",
    "if loadedCoordinates.all() == coordinates.all():\n",
    "    print('Coordinate data loaded correctly')\n",
    "else:\n",
    "    print('Coordinate data loaded incorrectly')\n",
    "\n",
    "if loadedValueSet.all() == valueSet.all():\n",
    "    print('Value set data loaded correctly')\n",
    "else:\n",
    "    print('Value set data loaded incorrectly')"
   ]
  },
  {
   "cell_type": "code",
   "execution_count": 11,
   "metadata": {},
   "outputs": [
    {
     "name": "stdout",
     "output_type": "stream",
     "text": [
      "Variable            Type       Data/Info\n",
      "----------------------------------------\n",
      "coordinates         ndarray    5x2: 10 elems, type `int64`, 80 bytes\n",
      "loadedCoordinates   ndarray    5x2: 10 elems, type `int64`, 80 bytes\n",
      "loadedData          NpzFile    <numpy.lib.npyio.NpzFile <...>object at 0x7fc958461ef0>\n",
      "loadedValueSet      ndarray    5: 5 elems, type `int64`, 40 bytes\n",
      "np                  module     <module 'numpy' from '/us<...>kages/numpy/__init__.py'>\n",
      "plt                 module     <module 'matplotlib.pyplo<...>es/matplotlib/pyplot.py'>\n",
      "valueSet            ndarray    5: 5 elems, type `int64`, 40 bytes\n",
      "variableNames       ndarray    2: 2 elems, type `<U11`, 88 bytes\n"
     ]
    }
   ],
   "source": [
    "whos"
   ]
  },
  {
   "cell_type": "markdown",
   "metadata": {},
   "source": [
    "# Sum/Average/Standard Deviation etc. Over Multiple Dimensions\n",
    "\n",
    "An interesting component of numpy methods such as average(), sum(), std(), and so on... is the ability to compute a value over a chosen axis/dimension."
   ]
  },
  {
   "cell_type": "code",
   "execution_count": 12,
   "metadata": {},
   "outputs": [
    {
     "name": "stdout",
     "output_type": "stream",
     "text": [
      "Number of axes: 1\n",
      "Sum over a flattened array: 0\n",
      "Sum over the first axis: 0\n",
      "Cannot compute sum over the second axis since there is only 1 axis!\n"
     ]
    }
   ],
   "source": [
    "singleDimensionalData = np.asarray([-5, -4, -3, -2, -1, 0, 1, 2, 3, 4, 5])\n",
    "\n",
    "# How many axes can we compute the sum over?\n",
    "print('Number of axes:', len(singleDimensionalData.shape)) #length of dimensions\n",
    "print('Sum over a flattened array:', singleDimensionalData.sum())\n",
    "print('Sum over the first axis:', singleDimensionalData.sum(axis=0))\n",
    "\n",
    "try:\n",
    "    print('Sum over the first axis:', singleDimensionalData.sum(axis=1))\n",
    "except:\n",
    "    print('Cannot compute sum over the second axis since there is only 1 axis!')"
   ]
  },
  {
   "cell_type": "code",
   "execution_count": 13,
   "metadata": {},
   "outputs": [
    {
     "name": "stdout",
     "output_type": "stream",
     "text": [
      "(3, 3, 3)\n"
     ]
    }
   ],
   "source": [
    "multiDimensionalData = np.array([[[1,2,3], [4,5,6], [7,8,9]],\n",
    "                                 [[-1,-2,-3], [-4,-5,-6], [-7,-8,-9]],\n",
    "                                 [[-1,0,1], [0,2,4], [7,8,9]]])\n",
    "print(multiDimensionalData.shape)"
   ]
  },
  {
   "cell_type": "code",
   "execution_count": 14,
   "metadata": {},
   "outputs": [
    {
     "name": "stdout",
     "output_type": "stream",
     "text": [
      "Number of axes: 3\n",
      "Sum over a flattened array: 30\n",
      "Sum over the first axis: [[-1  0  1]\n",
      " [ 0  2  4]\n",
      " [ 7  8  9]]\n",
      "Sum over the second axis: [[ 12  15  18]\n",
      " [-12 -15 -18]\n",
      " [  6  10  14]]\n",
      "Sum over the third axis: [[  6  15  24]\n",
      " [ -6 -15 -24]\n",
      " [  0   6  24]]\n"
     ]
    }
   ],
   "source": [
    "# How many axes can we compute the sum over?\n",
    "print('Number of axes:', len(multiDimensionalData.shape)) #length of dimensions\n",
    "print('Sum over a flattened array:', multiDimensionalData.sum())\n",
    "print('Sum over the first axis:', multiDimensionalData.sum(axis=0))\n",
    "print('Sum over the second axis:', multiDimensionalData.sum(axis=1))\n",
    "print('Sum over the third axis:', multiDimensionalData.sum(axis=2))\n",
    "#Axis has always confused me, a good read that explains it is here: https://medium.com/@aerinykim/numpy-sum-axis-intuition-6eb94926a5d1\n"
   ]
  },
  {
   "cell_type": "markdown",
   "metadata": {},
   "source": [
    "# Basemap (although better to learn cartopy I think)\n",
    "To install basemap, follow the installation description here: https://matplotlib.org/basemap/users/installing.html"
   ]
  },
  {
   "cell_type": "code",
   "execution_count": null,
   "metadata": {},
   "outputs": [],
   "source": [
    "#I don't have basemap installed on this pc, so can't run the below!\n",
    "\"\"\"\n",
    "longitude = [0, 80]\n",
    "latitude = [-45, 45]\n",
    "\n",
    "from mpl_toolkits.basemap import Basemap\n",
    "\n",
    "#Instantiage a figure\n",
    "plt.figure(figsize=(18,10))\n",
    "\n",
    "#Create a Basemap object, projection = Mercator, llcrnrlat = lowerleft corner latitude, urcrnrlat = upper right corner latitude, and so on\n",
    "m = Basemap(projection='merc',llcrnrlat=np.min(latitude),urcrnrlat=np.max(latitude),llcrnrlon=np.min(longitude),urcrnrlon=np.max(longitude),resolution='c')\n",
    "m.drawcoastlines()\n",
    "m.fillcontinents(color='white')\n",
    "\n",
    "x = m.imshow([0,0,1,1], cmap = coolwarm, extent = [np.min(longitude), np.max(longitude), np.min(latitude), np.max(latitude)])\n",
    "\n",
    "plt.title(\"Using BaseMap!\")\n",
    "#plt.colorbar()\n",
    "plt.show()\n",
    "\n",
    "\"\"\""
   ]
  },
  {
   "cell_type": "markdown",
   "metadata": {},
   "source": [
    "# Creating an animation\n",
    "I've borrowed code from Shane for the below."
   ]
  },
  {
   "cell_type": "code",
   "execution_count": 15,
   "metadata": {},
   "outputs": [],
   "source": [
    "import os\n",
    "\n",
    "fig_dir = 'fig'\n",
    "\n",
    "#Create folders if necessary\n",
    "if not os.path.exists(fig_dir):\n",
    "    os.makedirs(fig_dir)"
   ]
  },
  {
   "cell_type": "code",
   "execution_count": 16,
   "metadata": {},
   "outputs": [],
   "source": [
    "#Initialise some data\n",
    "coordinates = []\n",
    "coordinates.append([[0,0], [-3,1], [1,1], [3,3], [10,3]])\n",
    "#shape is [timestep, element, coordinate x or y]\n",
    "\n",
    "values = [0,12,25,35,-15]"
   ]
  },
  {
   "cell_type": "code",
   "execution_count": 17,
   "metadata": {},
   "outputs": [],
   "source": [
    "#Let's move the points around and recolour them as we see fit\n",
    "\n",
    "for i in range(1,100):\n",
    "    newCoordinates = []\n",
    "    newValues = []\n",
    "    for j in range(len(coordinates[0])):\n",
    "        randomNumberX = 2*np.random.random_sample() -1 #a random number between -1 and 1\n",
    "        randomNumberY = 2*np.random.random_sample() -1 #a random number between -1 and 1\n",
    "        \n",
    "        x = coordinates[-1][j][0] + randomNumberX\n",
    "        y = coordinates[-1][j][1] + randomNumberY\n",
    "        \n",
    "        newCoordinates.append([x,y])\n",
    "        \n",
    "        \n",
    "    coordinates.append(newCoordinates)\n",
    "    "
   ]
  },
  {
   "cell_type": "code",
   "execution_count": 18,
   "metadata": {},
   "outputs": [],
   "source": [
    "#convert to numpy arrays to make everything easy\n",
    "coordinates = np.asarray(coordinates)\n",
    "values = np.asarray(values)\n",
    "\n",
    "#min/max values to keep images consistent\n",
    "xmin = np.min(coordinates[:,:,0]); xmax = np.max(coordinates[:,:,0]); ymin = np.min(coordinates[:,:,1]); ymax = np.max(coordinates[:,:,1])"
   ]
  },
  {
   "cell_type": "code",
   "execution_count": 19,
   "metadata": {},
   "outputs": [
    {
     "name": "stdout",
     "output_type": "stream",
     "text": [
      "Saved image at timestep 0\n",
      "Saved image at timestep 10\n",
      "Saved image at timestep 20\n",
      "Saved image at timestep 30\n",
      "Saved image at timestep 40\n",
      "Saved image at timestep 50\n",
      "Saved image at timestep 60\n",
      "Saved image at timestep 70\n",
      "Saved image at timestep 80\n",
      "Saved image at timestep 90\n",
      "Plotted all images\n"
     ]
    },
    {
     "data": {
      "text/plain": [
       "<Figure size 360x360 with 0 Axes>"
      ]
     },
     "metadata": {},
     "output_type": "display_data"
    }
   ],
   "source": [
    "fig = plt.figure(figsize=(5, 5))\n",
    "for timestep in range(0,100):\n",
    "\n",
    "    #ax = plt.axes()\n",
    "    plt.scatter(coordinates[timestep,:,0], coordinates[timestep,:,1], c=values, s=20, edgecolors=\"none\")\n",
    "    plt.xlabel('x')\n",
    "    plt.ylabel('y')\n",
    "    plt.xlim([xmin, xmax])\n",
    "    plt.ylim([ymin, ymax])\n",
    "    plt.colorbar()\n",
    "    plt.title('Moving dots at timestep: ' + str(timestep))\n",
    "    \n",
    "    fig.savefig(fig_dir +'/moving_dots_{:0>3d}.png'.format(timestep),bbox_inches='tight')\n",
    "    \n",
    "    if timestep%10 == 0:\n",
    "        print('Saved image at timestep', timestep)\n",
    "        \n",
    "    fig.clear()\n",
    "\n",
    "print(\"Plotted all images\")"
   ]
  },
  {
   "cell_type": "code",
   "execution_count": 20,
   "metadata": {},
   "outputs": [],
   "source": [
    "# Create an animation\n",
    "import os\n",
    "def save_movie(image_filenames,movie_filename,framerate):\n",
    "    os.system('ffmpeg -framerate ' + str(framerate) + ' -i ' + image_filenames + ' -vb 20M -vcodec mpeg4 -y ' + movie_filename)\n",
    "\n",
    "\n",
    "save_movie(fig_dir + '/moving_dots_%03d.png', fig_dir +'/moving_dots_movie.mp4',10)"
   ]
  }
 ],
 "metadata": {
  "kernelspec": {
   "display_name": "Python 3",
   "language": "python",
   "name": "python3"
  },
  "language_info": {
   "codemirror_mode": {
    "name": "ipython",
    "version": 3
   },
   "file_extension": ".py",
   "mimetype": "text/x-python",
   "name": "python",
   "nbconvert_exporter": "python",
   "pygments_lexer": "ipython3",
   "version": "3.7.1"
  }
 },
 "nbformat": 4,
 "nbformat_minor": 2
}
