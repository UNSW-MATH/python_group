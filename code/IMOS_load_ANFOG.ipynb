{
 "cells": [
  {
   "cell_type": "markdown",
   "metadata": {},
   "source": [
    "# <font color=#3498DB> TUTORIAL\n",
    "\n",
    "-------------------------------------------------\n",
    "<br>\n",
    "\n",
    "#### Ocean gliders have been used by the Integrated Marine Observing System (IMOS) since 2008. They allow the collection of high-resolution information in space (depth, longitude, latitude) and in time. \n",
    "\n",
    "#### The Australian National Facility for Ocean Gliders (ANFOG) is responsible for the operation and maintenance of the ocean glider fleet, whilst the Australian Ocean Data Network (AODN) is responsible for making glider data available for anyone to download through the portal. \n",
    "\n",
    "#### This Notebook is a guide on how to access and plot the ocean glider data.\n",
    "\n",
    "<br>\n",
    "<br>\n",
    "\n",
    "### In this tutorial, you will:\n",
    "<br>\n",
    "\n",
    "* ## Search and download AODN glider data\n",
    "\n",
    "* ## Load ANFOG data into python \n",
    "\n",
    "* ## Look through ANFOG netCDF file data and attributes\n",
    "\n",
    "* ## Produce plots\n",
    "\n",
    "* ## Save modified data as netCDF file\n",
    "\n",
    "<br>\n",
    "<br>"
   ]
  },
  {
   "cell_type": "markdown",
   "metadata": {},
   "source": [
    "# <font color=#3498DB> Before Starting\n",
    "\n",
    "------\n",
    "<br>\n",
    "\n",
    "## Install packages:\n",
    "\n",
    "* ### xarray\n",
    "* ### pandas\n",
    "* ### matplotlib\n",
    "* ### cmocean \n",
    "* ### cartopy\n",
    "* ### netcdf4\n",
    "\n",
    "<br>\n",
    "<div style=\"background:#D1F2EB;padding:5px;\">    \n",
    "<h3>pip install <span style=\"color:blue\">package </span>\n",
    "        or \n",
    "<h3>conda install -c conda-forge <span style=\"color:blue\">package\n",
    "    </div>"
   ]
  },
  {
   "cell_type": "markdown",
   "metadata": {},
   "source": [
    "\n",
    "# <font color=#3498DB> Search and download AODN data\n",
    "______________    \n",
    "    \n",
    "<br>\n",
    "<br>\n",
    "\n",
    "<h3>ANFOG stands for Australian National Facility for Ocean Gliders.\n",
    "<h3>You can download ANFOG netCDF files from the Australian Ocean Data Network (<a href=\"https://portal.aodn.org.au/\">AODN website</a>).\n",
    "\n",
    "<br>\n",
    "<br>\n",
    "<br>\n",
    "<br>\n",
    "\n",
    "### When on the AODN portal navigate and select the Heron 2015 deployment for download:\n",
    "\n",
    "<br>\n",
    "\n",
    "<div style=\"background:#D1F2EB;padding:5px;\">    \n",
    "<h4> Platform -> glider \n",
    "<h4> Dataset -> IMOS - 'Australian National Facility for Ocean Gliders (ANFOG) - delayed mode glider deployments' \n",
    "<h4> Deployment -> 'Heron20150521' \n",
    "</div>\n",
    "\n",
    "# After download:\n",
    "\n",
    "### filename: \n",
    "#### IMOS_-_Australian_National_Facility_for_Ocean_Gliders_(ANFOG)_-_delayed_mode_glider_deployments_source_files.zip\n",
    "#### unzip -> IMOS_ANFOG_BCEOPSTUVN_20150521T004128Z_SL416_FV01_timeseries_END-20150530T131213Z.nc\n"
   ]
  },
  {
   "cell_type": "markdown",
   "metadata": {},
   "source": [
    "# <font color=#3498DB> Load ANFOG data into python"
   ]
  },
  {
   "cell_type": "markdown",
   "metadata": {},
   "source": [
    "### Now we are going to load in the ANFOG Heron Island netCDF file we just downloaded from the AODN\n",
    "<br>\n",
    "\n",
    "### To do this, and the other things we plan to do later, we need to load in some python packages:\n",
    "<br>\n",
    "<div style=\"background:#D1F2EB;padding:5px;\">   \n",
    "<h3><a href=\"http://xarray.pydata.org/en/stable/\">xarray</a>: makes working with labelled multi-dimensional arrays simple, efficient, and fun!\n",
    "<h3><a href=\"https://pandas.pydata.org/\">pandas</a>: high-performance, easy-to-use data structures and data analysis tools for the Python programming language\n",
    "<h3><a href=\"https://matplotlib.org/\">matplotlib</a>: 2D plotting library which produces publication quality figures in a variety of hardcopy formats and interactive environments across platforms\n",
    "\n",
    "<h3><a href=\"https://matplotlib.org/cmocean/\">cmocean</a>: perceptually uniform colormaps\n",
    "<h3><a href=\"https://scitools.org.uk/cartopy/docs/latest/\">cartopy</a>: designed for geospatial data processing in order to produce maps and other geospatial data analyses    \n",
    "<h3><a href=\"https://unidata.github.io/netcdf4-python/netCDF4/index.html\">netcdf4</a>: Python interface to the netCDF C library    \n",
    "</div>\n",
    "<br>\n",
    "<br>\n"
   ]
  },
  {
   "cell_type": "code",
   "execution_count": null,
   "metadata": {},
   "outputs": [],
   "source": [
    "# for loading data and calculations\n",
    "import xarray as xr\n",
    "import pandas as pd\n",
    "# for plotting\n",
    "import matplotlib.pyplot as plt\n",
    "import matplotlib as mat\n",
    "import matplotlib.dates as mdates\n",
    "from pandas.plotting import register_matplotlib_converters\n",
    "register_matplotlib_converters()\n",
    "import cmocean\n",
    "# for creating glider map\n",
    "import cartopy.crs as ccrs\n",
    "import cartopy.io.img_tiles as cimgt\n",
    "from cartopy.io.shapereader import Reader\n",
    "from cartopy.feature import ShapelyFeature\n",
    "from cartopy.mpl.ticker import LongitudeFormatter, LatitudeFormatter\n",
    "from cartopy.mpl.gridliner import LONGITUDE_FORMATTER, LATITUDE_FORMATTER"
   ]
  },
  {
   "cell_type": "markdown",
   "metadata": {},
   "source": [
    "### Define name of file, load using xarray with one line of code"
   ]
  },
  {
   "cell_type": "code",
   "execution_count": null,
   "metadata": {},
   "outputs": [],
   "source": [
    "filename = 'IMOS_ANFOG_BCEOPSTUVN_20150521T004128Z_SL416_FV01_timeseries_END-20150530T131213Z.nc'\n",
    "glider_data = xr.open_dataset(filename)\n",
    "# convert from data set to data frame for easier plotting later\n",
    "glider_data_frame = xr.Dataset.to_dataframe(glider_data)"
   ]
  },
  {
   "cell_type": "markdown",
   "metadata": {},
   "source": [
    "# <font color=#3498DB> Look through netCDF file data and attributes"
   ]
  },
  {
   "cell_type": "markdown",
   "metadata": {},
   "source": [
    "### what is 'glider_data'?"
   ]
  },
  {
   "cell_type": "code",
   "execution_count": null,
   "metadata": {},
   "outputs": [],
   "source": [
    "type(glider_data)"
   ]
  },
  {
   "cell_type": "markdown",
   "metadata": {},
   "source": [
    "#### xarray.Dataset is xarray’s multi-dimensional equivalent of a DataFrame. \n",
    "#### It is a dict-like container of labeled arrays (DataArray objects) with aligned dimensions. \n",
    "#### It is designed as an in-memory representation of the data model from the netCDF file format."
   ]
  },
  {
   "cell_type": "markdown",
   "metadata": {},
   "source": [
    "### Take a look at variable names and global attributes"
   ]
  },
  {
   "cell_type": "code",
   "execution_count": null,
   "metadata": {},
   "outputs": [],
   "source": [
    "glider_data"
   ]
  },
  {
   "cell_type": "code",
   "execution_count": null,
   "metadata": {},
   "outputs": [],
   "source": [
    "type(glider_data_frame)"
   ]
  },
  {
   "cell_type": "markdown",
   "metadata": {},
   "source": [
    "#### This is a pandas.DataFrame.\n",
    "\n",
    "#### The DataFrame is indexed by the Cartesian product of index coordinates (in the form of a pandas.MultiIndex).\n",
    "\n",
    "#### Other coordinates are included as columns in the DataFrame."
   ]
  },
  {
   "cell_type": "code",
   "execution_count": null,
   "metadata": {},
   "outputs": [],
   "source": [
    "glider_data_frame"
   ]
  },
  {
   "cell_type": "code",
   "execution_count": null,
   "metadata": {},
   "outputs": [],
   "source": [
    "glider_data_frame['PSAL']"
   ]
  },
  {
   "cell_type": "markdown",
   "metadata": {},
   "source": [
    "### Take a look at variable-specific attributes"
   ]
  },
  {
   "cell_type": "code",
   "execution_count": null,
   "metadata": {},
   "outputs": [],
   "source": [
    "glider_data.TEMP"
   ]
  },
  {
   "cell_type": "code",
   "execution_count": null,
   "metadata": {},
   "outputs": [],
   "source": [
    "glider_data.PSAL"
   ]
  },
  {
   "cell_type": "code",
   "execution_count": null,
   "metadata": {},
   "outputs": [],
   "source": [
    "glider_data.DOX1"
   ]
  },
  {
   "cell_type": "markdown",
   "metadata": {},
   "source": [
    "# <font color=#3498DB> Produce plots"
   ]
  },
  {
   "cell_type": "markdown",
   "metadata": {},
   "source": [
    "### Select variables of interest from glider data"
   ]
  },
  {
   "cell_type": "code",
   "execution_count": null,
   "metadata": {},
   "outputs": [],
   "source": [
    "TIME = glider_data.TIME\n",
    "PSAL = glider_data.PSAL\n",
    "O2_1 = glider_data.DOX1\n",
    "CPHL = glider_data.CPHL\n",
    "TEMP = glider_data.TEMP\n",
    "DEPTH = glider_data.DEPTH"
   ]
  },
  {
   "cell_type": "markdown",
   "metadata": {},
   "source": [
    "### create new QC variables and apply QC to data\n",
    "\n",
    "#### In this example, we will apply QC to temperature and practical salinity\n",
    "<br> \n",
    "\n",
    "<img src=\"IMOSQC.png\" alt=\"QC table IMOS\" width=\"400\" height=\"400\">\n",
    "\n",
    "\n",
    "#### Temperature:"
   ]
  },
  {
   "cell_type": "code",
   "execution_count": null,
   "metadata": {},
   "outputs": [],
   "source": [
    "TEMP_QC_index = glider_data.TEMP_quality_control\n",
    "TEMP_QC_index_01 = TEMP_QC_index == 1\n",
    "TEMP_QC = TEMP[TEMP_QC_index_01]"
   ]
  },
  {
   "cell_type": "markdown",
   "metadata": {},
   "source": [
    "#### Practical salinity"
   ]
  },
  {
   "cell_type": "code",
   "execution_count": null,
   "metadata": {},
   "outputs": [],
   "source": [
    "PSAL_QC_index = glider_data.PSAL_quality_control\n",
    "PSAL_QC_index_01 = PSAL_QC_index == 1\n",
    "PSAL_QC = PSAL[PSAL_QC_index_01]"
   ]
  },
  {
   "cell_type": "markdown",
   "metadata": {},
   "source": [
    "### With glider data, sometimes you need to combine QC of more than one variable.\n",
    "\n",
    "<br>\n",
    " \n",
    "<h3><a href=\"https://en.wikipedia.org/wiki/Temperature%E2%80%93salinity_diagram\">T-S diagram</a>: Each array - TEMP,PSAL - needs to have the same number of elements/length otherwise there is an error. \n"
   ]
  },
  {
   "cell_type": "code",
   "execution_count": null,
   "metadata": {},
   "outputs": [],
   "source": [
    "TS_QC_bool = TEMP_QC_index_01*PSAL_QC_index_01\n",
    "PSAL_QC_TS = PSAL[TS_QC_bool]\n",
    "TEMP_QC_TS = TEMP[TS_QC_bool]"
   ]
  },
  {
   "cell_type": "markdown",
   "metadata": {},
   "source": [
    "<h3><a href=\"https://en.wikipedia.org/wiki/Time_series\">timeseries</a>: Time must have the same number of elements/length as the variable of interest."
   ]
  },
  {
   "cell_type": "code",
   "execution_count": null,
   "metadata": {},
   "outputs": [],
   "source": [
    "TEMP_TIME_QC = TIME[TEMP_QC_index_01]"
   ]
  },
  {
   "cell_type": "markdown",
   "metadata": {},
   "source": [
    "### Glider locations"
   ]
  },
  {
   "cell_type": "code",
   "execution_count": null,
   "metadata": {
    "scrolled": true
   },
   "outputs": [],
   "source": [
    "LONG_min = xr.DataArray.min(glider_data.LONGITUDE)\n",
    "LONG_max = xr.DataArray.min(glider_data.LONGITUDE)\n",
    "LAT_min = xr.DataArray.min(glider_data.LATITUDE)\n",
    "LAT_max = xr.DataArray.min(glider_data.LATITUDE)\n",
    "\n",
    "stamen_terrain = cimgt.Stamen('terrain-background')\n",
    "fig = plt.figure(figsize=(10, 20))\n",
    "\n",
    "# Create a GeoAxes in the tile's projection.\n",
    "#ax1 = fig.add_subplot(1, 2, 1, projection=stamen_terrain.crs)\n",
    "#ax2 = fig.add_subplot(1, 2, 2, projection=stamen_terrain.crs)\n",
    "\n",
    "ax1 = plt.axes(projection=stamen_terrain.crs)  # standard axes\n",
    "ax1.set_extent([LONG_min-2,LONG_max+2, LAT_min-2, LAT_max+2], crs=ccrs.PlateCarree())\n",
    "ax1.add_image(stamen_terrain, 8)\n",
    "lon_formatter = LongitudeFormatter(zero_direction_label=True)\n",
    "lat_formatter = LatitudeFormatter()\n",
    "ax1.xaxis.set_major_formatter(lon_formatter)\n",
    "ax1.yaxis.set_major_formatter(lat_formatter)\n",
    "ax1.set_xticks([150,151,152,153,154,155], crs=ccrs.PlateCarree())\n",
    "ax1.set_yticks([-23 -22 -20 -19 -18 -17], crs=ccrs.PlateCarree())\n",
    "plt.rcParams.update({'font.size': 30})\n",
    "ax1.plot(glider_data.LONGITUDE,glider_data.LATITUDE,marker='o',color='b',markersize=3,\n",
    "        transform=ccrs.PlateCarree(),label='Glider data', linestyle='None')"
   ]
  },
  {
   "cell_type": "markdown",
   "metadata": {},
   "source": [
    "### Create T-S diagram"
   ]
  },
  {
   "cell_type": "code",
   "execution_count": null,
   "metadata": {},
   "outputs": [],
   "source": [
    "# create figure with specific size\n",
    "plt.figure(figsize=(10,10))\n",
    "# scatter TEMP vs. PSAL\n",
    "plt.scatter(PSAL_QC_TS,TEMP_QC_TS)\n",
    "# add axis labels\n",
    "plt.xlabel('Practical Salinity')\n",
    "plt.ylabel('Seawater temperature [deg C]')\n",
    "# reduce number of ticks\n",
    "locs, labels = plt.xticks()\n",
    "plt.xticks(locs[::2])"
   ]
  },
  {
   "cell_type": "markdown",
   "metadata": {},
   "source": [
    "### Create timeseries plot"
   ]
  },
  {
   "cell_type": "code",
   "execution_count": null,
   "metadata": {},
   "outputs": [],
   "source": [
    "# define plot font family, weight, and size\n",
    "font = {'family' : 'normal',\n",
    "        'weight' : 'bold',\n",
    "        'size'   : 35}\n",
    "\n",
    "# create figure with set size\n",
    "plt.figure(figsize=(15,7))\n",
    "# plot TEMP  timeseries\n",
    "plt.plot(TEMP_TIME_QC,TEMP_QC)\n",
    "# create axis labels\n",
    "plt.xlabel('Time')\n",
    "plt.ylabel('Seawater Temperature [deg C]')\n",
    "# set font that was defined above\n",
    "plt.rc('font', **font)\n",
    "# get locations and labels of x-axis ticks\n",
    "locs, labels = plt.xticks()\n",
    "# change the frequency of the xtick to every 2nd element in previous tick array (locs)\n",
    "plt.xticks(locs[::2])\n",
    "# change time python number to date string\n",
    "plt.gca().xaxis.set_major_formatter(mdates.DateFormatter('%m/%d'))\n",
    "# add a grid\n",
    "plt.grid(True)"
   ]
  },
  {
   "cell_type": "markdown",
   "metadata": {},
   "source": [
    "### Create transect plot of TEMP, PSAL, and CHL"
   ]
  },
  {
   "cell_type": "code",
   "execution_count": null,
   "metadata": {},
   "outputs": [],
   "source": [
    "##############\n",
    "# PSAL\n",
    "##############\n",
    "\n",
    "# create figure with specific size and 3 horizontal subplots\n",
    "fig, ax = plt.subplots(3,1,figsize=(20,30))\n",
    "# set subplot colormap using cmocean library of perceptually uniformap color maps\n",
    "cmap_haline = cmocean.cm.haline\n",
    "# define scatter settings here\n",
    "shortcut = dict(s=20, c=glider_data_frame['PSAL'], \n",
    "                marker='o', edgecolor='none',cmap=cmap_haline,\n",
    "                vmin=35.5,vmax=35.6)\n",
    "# scatter time vs depth colored by PSAL\n",
    "cs1 = ax[0].scatter(glider_data_frame.index, glider_data_frame['DEPTH'], **shortcut)\n",
    "# flip y-axis \n",
    "ax[0].invert_yaxis()\n",
    "# set subplot labels\n",
    "ax[0].set_ylabel('Depth [m]')\n",
    "ax[0].set_xlabel('Time')\n",
    "# set subplot axis limits\n",
    "ax[0].set_xlim(glider_data_frame.index[0], glider_data_frame.index[-1])\n",
    "ax[0].set_ylim(210, -1)\n",
    "# reduce frequency of Xticks to reduce text overlap\n",
    "start, end = ax[0].get_xlim()\n",
    "# every 2nd tick between start and end ticks\n",
    "ax[0].xaxis.set_ticks(np.arange(start, end, 2))\n",
    "# display date string rather than number\n",
    "ax[0].xaxis.set_major_formatter(mdates.DateFormatter('%d/%m'))\n",
    "# change fontsize to size 26\n",
    "for item in ([ax[0].title, ax[0].xaxis.label, ax[0].yaxis.label] +\n",
    "              ax[0].get_xticklabels() + ax[0].get_yticklabels()):\n",
    "    item.set_fontsize(26)\n",
    "# create corresponding colorbar and label\n",
    "cbar = plt.colorbar(cs1,orientation='vertical',ax=ax[0])\n",
    "cbar.ax.set_ylabel('Practical Salinity',fontsize=26)\n",
    "\n",
    "#%%%%%%%%%%%%%%%%%%%%%%%%%%%%%%%%%%%%%%%%%%%%%%%%%%%%%%%%%%%%%%%%%%%%%%%%%%%%%%%%%%%%%%%%%%%%%%%%%%%%%\n",
    "\n",
    "##############\n",
    "# TEMP\n",
    "##############\n",
    "\n",
    "# set subplot colormap using cmocean library of perceptually uniformap color maps\n",
    "cmap_thermal = cmocean.cm.thermal\n",
    "# define scatter settings here\n",
    "shortcut = dict(s=20, c=glider_data_frame['TEMP'], \n",
    "                marker='o', edgecolor='none',cmap=cmap_thermal,\n",
    "                vmin=19,vmax=24.5)\n",
    "# scatter time vs depth colored by PSAL\n",
    "cs2 = ax[1].scatter(glider_data_frame.index, glider_data_frame['DEPTH'], **shortcut)\n",
    "# flip y-axis \n",
    "ax[1].invert_yaxis()\n",
    "# set subplot labels\n",
    "ax[1].set_ylabel('Depth [m]')\n",
    "ax[1].set_xlabel('Time')\n",
    "# set subplot axis limits\n",
    "ax[1].set_xlim(glider_data_frame.index[1], glider_data_frame.index[-1])\n",
    "ax[1].set_ylim(210, -1)\n",
    "# reduce frequency of Xticks to reduce text overlap\n",
    "start, end = ax[1].get_xlim()\n",
    "# every 2nd tick between start and end ticks\n",
    "ax[1].xaxis.set_ticks(np.arange(start, end, 2))\n",
    "# display date string rather than number\n",
    "ax[1].xaxis.set_major_formatter(mdates.DateFormatter('%d/%m'))\n",
    "# change fontsize to size 26\n",
    "for item in ([ax[1].title, ax[1].xaxis.label, ax[1].yaxis.label] +\n",
    "              ax[1].get_xticklabels() + ax[1].get_yticklabels()):\n",
    "    item.set_fontsize(26)\n",
    "# create corresponding colorbar and label\n",
    "cbar = plt.colorbar(cs2,orientation='vertical',ax=ax[1])\n",
    "cbar.ax.set_ylabel('In situ temperature [$^\\circ$C]',fontsize=26)\n",
    "\n",
    "#%%%%%%%%%%%%%%%%%%%%%%%%%%%%%%%%%%%%%%%%%%%%%%%%%%%%%%%%%%%%%%%%%%%%%%%%%%%%%%%%%%%%%%%%%%%%%%%%%%%%%\n",
    "\n",
    "##############\n",
    "# CHL\n",
    "##############\n",
    "\n",
    "# set subplot colormap using cmocean library of perceptually uniformap color maps\n",
    "cmap_algae = cmocean.cm.algae\n",
    "# define scatter settings here\n",
    "shortcut = dict(s=20, c=glider_data_frame['CPHL'], \n",
    "                marker='o', edgecolor='none',cmap=cmap_algae,\n",
    "                vmin=0.5,vmax=1)\n",
    "# scatter time vs depth colored by PSAL\n",
    "cs2 = ax[2].scatter(glider_data_frame.index, glider_data_frame['DEPTH'], **shortcut)\n",
    "# flip y-axis \n",
    "ax[2].invert_yaxis()\n",
    "# set subplot labels\n",
    "ax[2].set_ylabel('Depth [m]')\n",
    "ax[2].set_xlabel('Time')\n",
    "# set subplot axis limits\n",
    "ax[2].set_xlim(glider_data_frame.index[1], glider_data_frame.index[-1])\n",
    "ax[2].set_ylim(210, -1)\n",
    "# reduce frequency of Xticks to reduce text overlap\n",
    "start, end = ax[2].get_xlim()\n",
    "# every 2nd tick between start and end ticks\n",
    "ax[2].xaxis.set_ticks(np.arange(start, end, 2))\n",
    "# display date string rather than number\n",
    "ax[2].xaxis.set_major_formatter(mdates.DateFormatter('%d/%m'))\n",
    "# change fontsize to size 26\n",
    "for item in ([ax[2].title, ax[2].xaxis.label, ax[2].yaxis.label] +\n",
    "              ax[2].get_xticklabels() + ax[2].get_yticklabels()):\n",
    "    item.set_fontsize(26)\n",
    "# create corresponding colorbar and label\n",
    "cbar = plt.colorbar(cs2,orientation='vertical',ax=ax[2])\n",
    "cbar.ax.set_ylabel('Chlorophyll fluorescence [mg$^{-3}$]',fontsize=26)"
   ]
  },
  {
   "cell_type": "markdown",
   "metadata": {},
   "source": [
    "### Save plot as PNG"
   ]
  },
  {
   "cell_type": "code",
   "execution_count": null,
   "metadata": {},
   "outputs": [],
   "source": [
    "fig.savefig('TEMP_PSAL_CHL_Heron.png', bbox_inches='tight')"
   ]
  },
  {
   "cell_type": "markdown",
   "metadata": {},
   "source": [
    "# <font color=#3498DB> Save modified data as netCDF file"
   ]
  },
  {
   "cell_type": "code",
   "execution_count": null,
   "metadata": {},
   "outputs": [],
   "source": [
    "mean_TEMP = glider_data.mean(dim='TIME')"
   ]
  },
  {
   "cell_type": "code",
   "execution_count": null,
   "metadata": {},
   "outputs": [],
   "source": [
    "mean_TEMP"
   ]
  },
  {
   "cell_type": "code",
   "execution_count": null,
   "metadata": {},
   "outputs": [],
   "source": [
    "new_filename = 'mean_TEMP.nc'\n",
    "mean_TEMP.to_netcdf(path=new_filename)"
   ]
  },
  {
   "cell_type": "markdown",
   "metadata": {},
   "source": [
    "### load in newly created 'mean_TEMP' file to test"
   ]
  },
  {
   "cell_type": "code",
   "execution_count": null,
   "metadata": {},
   "outputs": [],
   "source": [
    "test = xr.open_dataset(new_filename)"
   ]
  },
  {
   "cell_type": "code",
   "execution_count": null,
   "metadata": {},
   "outputs": [],
   "source": [
    "test.TEMP"
   ]
  },
  {
   "cell_type": "code",
   "execution_count": null,
   "metadata": {},
   "outputs": [],
   "source": [
    "test.CPHL"
   ]
  },
  {
   "cell_type": "code",
   "execution_count": null,
   "metadata": {},
   "outputs": [],
   "source": []
  }
 ],
 "metadata": {
  "kernelspec": {
   "display_name": "Python 3",
   "language": "python",
   "name": "python3"
  },
  "language_info": {
   "codemirror_mode": {
    "name": "ipython",
    "version": 3
   },
   "file_extension": ".py",
   "mimetype": "text/x-python",
   "name": "python",
   "nbconvert_exporter": "python",
   "pygments_lexer": "ipython3",
   "version": "3.7.3"
  },
  "varInspector": {
   "cols": {
    "lenName": 16,
    "lenType": 16,
    "lenVar": 40
   },
   "kernels_config": {
    "python": {
     "delete_cmd_postfix": "",
     "delete_cmd_prefix": "del ",
     "library": "var_list.py",
     "varRefreshCmd": "print(var_dic_list())"
    },
    "r": {
     "delete_cmd_postfix": ") ",
     "delete_cmd_prefix": "rm(",
     "library": "var_list.r",
     "varRefreshCmd": "cat(var_dic_list()) "
    }
   },
   "position": {
    "height": "740px",
    "left": "1557px",
    "right": "20px",
    "top": "128px",
    "width": "350px"
   },
   "types_to_exclude": [
    "module",
    "function",
    "builtin_function_or_method",
    "instance",
    "_Feature"
   ],
   "window_display": true
  }
 },
 "nbformat": 4,
 "nbformat_minor": 2
}
