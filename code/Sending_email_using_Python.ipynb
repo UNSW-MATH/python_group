{
 "cells": [
  {
   "cell_type": "markdown",
   "metadata": {},
   "source": [
    "## Sending the fortnightly PUG email"
   ]
  },
  {
   "cell_type": "markdown",
   "metadata": {},
   "source": [
    "### Importing packages\n",
    "\n",
    "**smtplib** = The smtplib module defines a Simple Mail Transfer Protocol (SMTP) client session object that can be used to send mail to any internet machine with an SMTP or ESMTP listener daemon (background process).\n",
    "\n",
    "**ssl** =  Secure Sockets Layer (SSL) is designed to create a secure connection between the client and server. \n",
    "\n",
    "**getpass** = alternative to 'input()', does not show input on screen.\n",
    "\n",
    "**email.mime** = create a new object structure by creating Message instances, adding attachments and all the appropriate headers manually. For Multipurpose Internet Mail Extensions (MIME) messages, the email package provides some convenient subclasses to make things easier. MIME is an Internet standard that extends the format of email to support: Text in character sets other than ASCII. Non-text attachments: audio, video, images, application programs etc. Message bodies with multiple parts. Header information in non-ASCII character sets."
   ]
  },
  {
   "cell_type": "code",
   "execution_count": 1,
   "metadata": {
    "collapsed": false
   },
   "outputs": [],
   "source": [
    "import smtplib, ssl, getpass\n",
    "from email.mime.text import MIMEText\n",
    "from email.mime.multipart import MIMEMultipart"
   ]
  },
  {
   "cell_type": "markdown",
   "metadata": {},
   "source": [
    " "
   ]
  },
  {
   "cell_type": "markdown",
   "metadata": {},
   "source": [
    "### Define email settings, input password, define sender and receivers:"
   ]
  },
  {
   "cell_type": "code",
   "execution_count": 2,
   "metadata": {
    "collapsed": false
   },
   "outputs": [
    {
     "name": "stdout",
     "output_type": "stream",
     "text": [
      "········\n"
     ]
    }
   ],
   "source": [
    "port = 587  # For SSL\n",
    "smtp_server = \"smtp.office365.com\"\n",
    "#password = input(\"Type your password and press enter: \")\n",
    "password = getpass.getpass();\n",
    "sender_email = \"z3526971@ad.unsw.edu.au\"\n",
    "receiver_email = \"z3526971@ad.unsw.edu.au\"\n",
    "#receiver_email = [\"z3526971@ad.unsw.edu.au\",\"Ziyu.Xiao@student.adfa.edu.au\",\"michaeldenes@gmail.com\",\\\n",
    "#                 \"s.keating@unsw.edu.au\",\"c.kerry@unsw.edu.au\",\"n.malan@unsw.edu.au\",\"mroughan@unsw.edu.au\",\\\n",
    "#                 \"a.schaeffer@unsw.edu.au\",\"p.cetinaheredia@unsw.edu.au\",\"y.elzahaby@student.unsw.edu.au\",\\\n",
    "#                 \"stephanie.marchal@outlook.com\",\"rogemarine@gmail.com\",\"e.vitarellidequeiroz@student.unsw.edu.au\",\\\n",
    "#                 \"c.vieirarocha@student.unsw.edu.au\",\"s.contractor@unsw.edu.au\"]"
   ]
  },
  {
   "cell_type": "markdown",
   "metadata": {},
   "source": [
    " "
   ]
  },
  {
   "cell_type": "markdown",
   "metadata": {},
   "source": [
    "### Define meeting date, and message information:\n"
   ]
  },
  {
   "cell_type": "code",
   "execution_count": 3,
   "metadata": {
    "collapsed": true
   },
   "outputs": [],
   "source": [
    "date_of_meeting = \"05/02/2019\"\n",
    "message = MIMEMultipart(\"alternative\")\n",
    "message[\"Subject\"] = \"PUG meeting \" + date_of_meeting + \" 14:00\"\n",
    "message[\"From\"] = sender_email\n",
    "message[\"To\"] = receiver_email\n",
    "# message[\"To\"] = \", \".join(receiver_email) # concatenate the emails together split by commas"
   ]
  },
  {
   "cell_type": "markdown",
   "metadata": {},
   "source": [
    " "
   ]
  },
  {
   "cell_type": "markdown",
   "metadata": {},
   "source": [
    "### Create email message (use html for hyperlinks)"
   ]
  },
  {
   "cell_type": "code",
   "execution_count": 4,
   "metadata": {
    "collapsed": false
   },
   "outputs": [
    {
     "name": "stdout",
     "output_type": "stream",
     "text": [
      "\r\n",
      "\r\n",
      " Plain text: \r\n",
      "\r\n",
      "\n",
      "This email has been sent using python\r\n",
      "\r\n",
      "Hey pythonistas, \r\n",
      "\r\n",
      "Please join us tomorrow (05/02/2019) for the PUG meeting at 2pm in the conference room (RC-3078). We will begoing through the solutions to exercises 7-9 sent around after the last meeting, and if there is still time the python code used to send this email.\r\n",
      "\r\n",
      "Hope to see you there! \r\n",
      "\r\n",
      " Michael \r\n",
      "\r\n",
      " ---------------------------------------------------- \r\n",
      " Meeting every fortnight on a Tuesday \r\n",
      " Click here to access the PUG repository \r\n",
      " Looking for the latest exercises? \r\n",
      " ----------------------------------------------------\n",
      "\r\n",
      "\r\n",
      " html text: \r\n",
      "\r\n",
      "\n",
      "<html><body> <p style = font-family:courrier;font-size:18px;> <em><font color=red>This email has been sent using python.</font></em> <br><br>Hey pythonistas, <br><br>Please join us tomorrow (05/02/2019) for the PUG meeting at 2pm in the conference room (RC-3078). We will be going through the solutions to exercises 7-9 sent around after the last meeting, and if there is still time the python code used to send this email.<br><br>Hope to see you there! <br><br>Michael <br><br>---------------------------------------------------- <br>Meeting every fortnight on a Tuesday<br>Click here to access the PUG <a href=https://github.com/UNSW-MATH/python_group> repository</a> <br>Looking for the latest <a href=https://github.com/UNSW-MATH/python_group/commit/80d95aae96403622ccbf07f4280dc7eef01a472a> exercises?</a> <br>---------------------------------------------------- </body></html>\n"
     ]
    }
   ],
   "source": [
    "content_of_meeting = \"going through the solutions to exercises 7-9 sent around \\\n",
    "after the last meeting, and if there is still time the python code used to send this email.\"\n",
    "\n",
    "# Create the plain-text and HTML version of your message\n",
    "\n",
    "text = (\"This email has been sent using python\" + \"\\r\\n\\r\\nHey pythonistas, \\r\\n\\r\\n\" + \"Please join us tomorrow \\\n",
    "(\" + date_of_meeting + \") for the PUG meeting at 2pm \\\n",
    "in the conference room (RC-3078). We will be\" + content_of_meeting + \"\\r\\n\\r\\nHope to see you there! \\\n",
    "\\r\\n\\r\\n Michael \\r\\n\\r\\n ---------------------------------------------------- \\r\\n Meeting every fortnight on a Tuesday \\r\\n \\\n",
    "Click here to access the PUG repository \\\n",
    "\\r\\n Looking for the latest exercises? \\r\\n ----------------------------------------------------\")\n",
    "\n",
    "html = (\"<html><body> <p style = \"\"font-family:courrier;font-size:18px;\"\"> \\\n",
    "<em><font color=\"\"red\"\">This email has been sent using python.</font></em> <br><br>Hey pythonistas, <br><br>\" + \"Please join us tomorrow \\\n",
    "(\" + date_of_meeting + \") for the PUG meeting at 2pm \\\n",
    "in the conference room (RC-3078). We will be \" + content_of_meeting + \"<br><br>Hope to see you there! \\\n",
    "<br><br>Michael <br><br>---------------------------------------------------- <br>Meeting every fortnight on a Tuesday<br>Click here \\\n",
    "to access the PUG <a href=\"\"https://github.com/UNSW-MATH/python_group\"\"> repository</a> \\\n",
    "<br>Looking for the latest \\\n",
    "<a href=\"\"https://github.com/UNSW-MATH/python_group/commit/80d95aae96403622ccbf07f4280dc7eef01a472a\"\"> exercises?</a> \\\n",
    "<br>---------------------------------------------------- </body></html>\")\n",
    "\n",
    "print(\"\\r\\n\\r\\n Plain text: \\r\\n\\r\\n\")\n",
    "print(text)\n",
    "print(\"\\r\\n\\r\\n html text: \\r\\n\\r\\n\")\n",
    "print(html)"
   ]
  },
  {
   "cell_type": "markdown",
   "metadata": {},
   "source": [
    " "
   ]
  },
  {
   "cell_type": "markdown",
   "metadata": {},
   "source": [
    "### Turn these into plain/html MIMEText objects and combine:"
   ]
  },
  {
   "cell_type": "code",
   "execution_count": 5,
   "metadata": {
    "collapsed": false
   },
   "outputs": [],
   "source": [
    "# Turn these into plain/html MIMEText objects\n",
    "part1 = MIMEText(text, \"plain\")\n",
    "part2 = MIMEText(html, \"html\")"
   ]
  },
  {
   "cell_type": "code",
   "execution_count": 6,
   "metadata": {
    "collapsed": true
   },
   "outputs": [],
   "source": [
    "# Add HTML/plain-text parts to MIMEMultipart message\n",
    "# The email client will try to render the last part first\n",
    "message.attach(part1)\n",
    "message.attach(part2)"
   ]
  },
  {
   "cell_type": "markdown",
   "metadata": {},
   "source": [
    "### return a new context with secure default settings and send email:"
   ]
  },
  {
   "cell_type": "code",
   "execution_count": 7,
   "metadata": {
    "collapsed": false
   },
   "outputs": [],
   "source": [
    "context = ssl.create_default_context()"
   ]
  },
  {
   "cell_type": "code",
   "execution_count": 8,
   "metadata": {
    "collapsed": false
   },
   "outputs": [],
   "source": [
    "with smtplib.SMTP(smtp_server, port) as server:\n",
    "    server.ehlo()  # Can be omitted\n",
    "    server.starttls(context=context)\n",
    "    server.ehlo()  # Can be omitted\n",
    "    server.login(sender_email, password)\n",
    "    server.sendmail(sender_email, receiver_email, message.as_string())"
   ]
  },
  {
   "cell_type": "markdown",
   "metadata": {
    "collapsed": true
   },
   "source": [
    "### Sending automatic/timed emails?"
   ]
  },
  {
   "cell_type": "markdown",
   "metadata": {
    "collapsed": true
   },
   "source": [
    "https://celery.readthedocs.io/en/latest/userguide/periodic-tasks.html"
   ]
  }
 ],
 "metadata": {
  "kernelspec": {
   "display_name": "Python 3",
   "language": "python",
   "name": "python3"
  },
  "language_info": {
   "codemirror_mode": {
    "name": "ipython",
    "version": 3
   },
   "file_extension": ".py",
   "mimetype": "text/x-python",
   "name": "python",
   "nbconvert_exporter": "python",
   "pygments_lexer": "ipython3",
   "version": "3.6.0"
  },
  "varInspector": {
   "cols": {
    "lenName": 16,
    "lenType": 16,
    "lenVar": 40
   },
   "kernels_config": {
    "python": {
     "delete_cmd_postfix": "",
     "delete_cmd_prefix": "del ",
     "library": "var_list.py",
     "varRefreshCmd": "print(var_dic_list())"
    },
    "r": {
     "delete_cmd_postfix": ") ",
     "delete_cmd_prefix": "rm(",
     "library": "var_list.r",
     "varRefreshCmd": "cat(var_dic_list()) "
    }
   },
   "types_to_exclude": [
    "module",
    "function",
    "builtin_function_or_method",
    "instance",
    "_Feature"
   ],
   "window_display": false
  }
 },
 "nbformat": 4,
 "nbformat_minor": 2
}
