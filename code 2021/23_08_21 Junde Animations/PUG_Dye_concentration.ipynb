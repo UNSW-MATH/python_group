{
 "cells": [
  {
   "cell_type": "markdown",
   "metadata": {},
   "source": [
    "# Use opencv-python to create an animation\n",
    "### [Opencv](https://pypi.org/project/opencv-python/) "
   ]
  },
  {
   "cell_type": "code",
   "execution_count": null,
   "metadata": {},
   "outputs": [],
   "source": [
    "pip install opencv-python"
   ]
  },
  {
   "cell_type": "code",
   "execution_count": null,
   "metadata": {},
   "outputs": [],
   "source": [
    "import cv2"
   ]
  },
  {
   "cell_type": "markdown",
   "metadata": {},
   "source": [
    "# Background"
   ]
  },
  {
   "cell_type": "code",
   "execution_count": null,
   "metadata": {},
   "outputs": [],
   "source": [
    "directory   = '/srv/scratch/z3533156'\n",
    "from IPython.display import Image\n",
    "Image(directory+\"/PUG/Topography.png\")"
   ]
  },
  {
   "cell_type": "code",
   "execution_count": null,
   "metadata": {},
   "outputs": [],
   "source": [
    "Image(directory+\"/PUG/EAC_Scenarios.png\")"
   ]
  },
  {
   "cell_type": "markdown",
   "metadata": {},
   "source": [
    "# Import packages"
   ]
  },
  {
   "cell_type": "code",
   "execution_count": null,
   "metadata": {},
   "outputs": [],
   "source": [
    "import os\n",
    "import cmaps\n",
    "import numpy as np\n",
    "import matplotlib.pyplot as plt\n",
    "import matplotlib.gridspec as gridspec\n",
    "from netCDF4 import Dataset\n",
    "from datetime import date\n",
    "from mpl_toolkits.basemap import Basemap"
   ]
  },
  {
   "cell_type": "markdown",
   "metadata": {},
   "source": [
    "# Read grid information and dye concentration data"
   ]
  },
  {
   "cell_type": "code",
   "execution_count": null,
   "metadata": {},
   "outputs": [],
   "source": [
    "# Read longitude, latitude and depth.\n",
    "HSM_grid=Dataset(directory + '/HSM/coastal_raw_rx018.nc','r')\n",
    "lon=HSM_grid.variables['lon_rho'][10:200,0:40]\n",
    "lat=HSM_grid.variables['lat_rho'][10:200,0:40]\n",
    "dep=HSM_grid.variables['h'][10:200,0:40]\n",
    "# EAC Scenario1\n",
    "Scenario1_avg=Dataset(directory + '/HSM/Scenario1/outer_avg_02.nc','r')\n",
    "Scenario1_u=Scenario1_avg.variables['u_eastward'][:,29,10:200,0:40]\n",
    "Scenario1_v=Scenario1_avg.variables['v_northward'][:,29,10:200,0:40]\n",
    "Scenario1_dye=Scenario1_avg.variables['dye_01'][:,29,10:200,0:40]\n",
    "Scenario1_time=np.squeeze(Scenario1_avg.variables['ocean_time'][:]/86400)\n",
    "# EAC Scenario2\n",
    "Scenario2_avg=Dataset(directory + '/HSM/Scenario2/outer_avg_02.nc','r')\n",
    "Scenario2_u=Scenario2_avg.variables['u_eastward'][:,29,10:200,0:40]\n",
    "Scenario2_v=Scenario2_avg.variables['v_northward'][:,29,10:200,0:40]\n",
    "Scenario2_time=np.squeeze(Scenario2_avg.variables['ocean_time'][:]/86400)\n",
    "Scenario2_dye=Scenario2_avg.variables['dye_01'][:,29,10:200,0:40]\n",
    "# EAC Scenario3\n",
    "Scenario3_avg=Dataset(directory + '/HSM/Scenario3/outer_avg_02.nc','r')\n",
    "Scenario3_u=Scenario3_avg.variables['u_eastward'][:,29,10:200,0:40]\n",
    "Scenario3_v=Scenario3_avg.variables['v_northward'][:,29,10:200,0:40]\n",
    "Scenario3_dye=Scenario3_avg.variables['dye_01'][:,29,10:200,0:40]\n",
    "Scenario3_time=np.squeeze(Scenario3_avg.variables['ocean_time'][:]/86400)"
   ]
  },
  {
   "cell_type": "code",
   "execution_count": null,
   "metadata": {},
   "outputs": [],
   "source": [
    "# Total 180 sample size in 15 days\n",
    "np.shape(Scenario1_time)"
   ]
  },
  {
   "cell_type": "markdown",
   "metadata": {},
   "source": [
    "# Import functions"
   ]
  },
  {
   "cell_type": "code",
   "execution_count": null,
   "metadata": {},
   "outputs": [],
   "source": [
    "def serial_day_to_datestring(day,epochY=1990,epochm=1,epochd=1,epochH=0,epochM=0):\n",
    "    import datetime\n",
    "    corrected_date = datetime.datetime(epochY,epochm,epochd,epochH,epochM) + datetime.timedelta(day)\n",
    "    return corrected_date.strftime(\"%Y-%m-%d %H:%M\")  "
   ]
  },
  {
   "cell_type": "code",
   "execution_count": null,
   "metadata": {},
   "outputs": [],
   "source": [
    "serial_day_to_datestring(Scenario1_time[1])"
   ]
  },
  {
   "cell_type": "markdown",
   "metadata": {},
   "source": [
    "# Set the figure parameters"
   ]
  },
  {
   "cell_type": "code",
   "execution_count": null,
   "metadata": {},
   "outputs": [],
   "source": [
    "## Velocity parameters\n",
    "m     = Basemap(projection='merc',llcrnrlat=np.nanmin(lat),urcrnrlat= np.nanmax(lat),\n",
    "              llcrnrlon=np.nanmin(lon),urcrnrlon=np.nanmax(lon),resolution='h')\n",
    "x,y = m(lon,lat)\n",
    "yy = np.arange(0, y.shape[0], 5)\n",
    "xx = np.arange(0, x.shape[1], 5)\n",
    "points = np.meshgrid(yy, xx)\n",
    "point_index=tuple(points)\n",
    "point_x=x[point_index]\n",
    "point_y=y[point_index]\n",
    "y_quiver = 0.88\n",
    "cur_var  = 0.5\n",
    "str_var  = ['0.5 m/s']\n",
    "## River locations\n",
    "lon1  = np.array([lon[146,3],lon[156,3]])\n",
    "lat1  = np.array([lat[146,3],lat[156,3]])\n",
    "x1,y1 = m(lon1,lat1)\n",
    "rx=np.zeros(5)\n",
    "ry=np.zeros(5)\n",
    "rtx=np.zeros(5)\n",
    "rty=np.zeros(5)\n",
    "rivers  = ['HR','SH','BB','PH','PK']\n",
    "rx[0],ry[0] = m(151.365721, -33.579100) # 1 (HR) - Hunter River   \n",
    "rx[1],ry[1] = m(151.246587, -33.862418) # 2 (SH) - Sydney Harbour  \n",
    "rx[2],ry[2] = m(151.237908, -34.010494) # 3 (BB) - Botany Bay     \n",
    "rx[3],ry[3] = m(151.189933, -34.073633) # 4 (PH) - Port Hacking   \n",
    "rx[4],ry[4] = m(150.908340, -34.470658) # 5 (PK) - Port Kembla    \n",
    "rtx[0],rty[0] = m(151.365721-0.1, -33.579100-0.02)  # 1 (HR) - Hunter River   \n",
    "rtx[1],rty[1] = m(151.246587-0.1, -33.862418-0.02)  # 2 (SH) - Sydney Harbour \n",
    "rtx[2],rty[2] = m(151.237908-0.1, -34.010494-0.02)  # 3 (BB) - Botany Bay  \n",
    "rtx[3],rty[3] = m(151.189933-0.1, -34.073633-0.02)  # 4 (PH) - Port Hacking\n",
    "rtx[4],rty[4] = m(150.908340-0.1, -34.470658-0.02)  # 5 (PK) - Port Kembla    \n",
    "## Figure parameters\n",
    "fig_ratio=0.9\n",
    "gs=gridspec.GridSpec(1,3)\n",
    "labelfont=40\n",
    "padspacescale=20\n",
    "labelpadscale=5\n",
    "marker_size=20\n",
    "linefont = 8\n",
    "scale  = 1.18\n",
    "cmaps1 = cmaps.WhiteBlueGreenYellowRed\n",
    "levels1 = np.linspace(0,1,100)\n",
    "tick_marks1 = np.linspace(0,1,11)\n",
    "mx1,my1 = m(150.81, -33.39)\n",
    "labels = ['(a)Scenario1','(b)Scenario2','(c)Scenario3']"
   ]
  },
  {
   "cell_type": "markdown",
   "metadata": {},
   "source": [
    "# Plot the dye concentration for three EAC scenarios"
   ]
  },
  {
   "cell_type": "code",
   "execution_count": null,
   "metadata": {},
   "outputs": [],
   "source": [
    "len=3 # 180\n",
    "for j in range(len):\n",
    "    fig = plt.figure(figsize=(30, 30))\n",
    "    for i in range(3):\n",
    "        ax = fig.add_subplot(gs[i])\n",
    "        l, b, w, h = ax.get_position().bounds\n",
    "        l=l-0.05\n",
    "        ax.set_position([l, b, scale*w, scale*h]) \n",
    "        m   = Basemap(projection='merc',llcrnrlat=np.nanmin(lat),urcrnrlat= np.nanmax(lat),llcrnrlon=np.nanmin(lon),urcrnrlon=np.nanmax(lon),resolution='h')\n",
    "        m.drawmeridians(np.arange(150,152, 0.5),labels=[0,0,0,1],linewidth=0.2*linefont,dashes=[2,2],color='.5',fontsize=1.0*labelfont)\n",
    "        m.drawparallels(np.arange(-35,-33, 0.2),labels=[0,0,0,0],linewidth=0.2*linefont,dashes=[2,2],color='.5',fontsize=1.0*labelfont)    \n",
    "        m.drawstates(linewidth=linefont, linestyle='dashed', color='k', antialiased=1, ax=None, zorder=None)\n",
    "        m.drawcoastlines(color='xkcd:grey',  linewidth=0.2*linefont)\n",
    "        m.drawmapboundary(color='0.1', linewidth=0.2*linefont)\n",
    "        m.fillcontinents(color='0.95', lake_color='white')\n",
    "        # EAC Scenario1\n",
    "        if i<1:\n",
    "            scenario_time=Scenario1_time\n",
    "            scenario_con=Scenario1_dye\n",
    "            u_Var=Scenario1_u\n",
    "            v_Var=Scenario1_v\n",
    "        # EAC Scenario2\n",
    "        elif i<2:\n",
    "            scenario_time=Scenario2_time\n",
    "            scenario_con=Scenario2_dye\n",
    "            u_Var=Scenario2_u\n",
    "            v_Var=Scenario2_v\n",
    "        # EAC Scenario3\n",
    "        else:\n",
    "            scenario_time=Scenario3_time\n",
    "            scenario_con=Scenario3_dye\n",
    "            u_Var=Scenario3_u\n",
    "            v_Var=Scenario3_v\n",
    "        u=u_Var[j,:,:]\n",
    "        v=v_Var[j,:,:]\n",
    "        CB = m.contourf(x, y, scenario_con[j,:,:],cmap=cmaps1,levels=levels1,origin='lower',extend='both') \n",
    "        CS = m.contour(x, y, dep,np.linspace(99,101,10),linewidths=0.5*linefont,linestyles='solid',colors='xkcd:grey')\n",
    "        Q  = m.quiver(point_x,point_y,u[point_index],v[point_index],color='xkcd:grey',width=0.004,scale=5.0)\n",
    "        qk = plt.quiverkey(Q, 0.15, 0.81, cur_var, str_var[0],labelpos='N',color='xkcd:grey',linewidth=linefont*0.4,fontproperties={'size': labelfont}) \n",
    "        m.plot(x1, y1,linewidth=linefont, linestyle='solid', color='xkcd:black')\n",
    "        # Labels the rivers\n",
    "        for k in range(5):\n",
    "            if k>0:\n",
    "                m.plot(rx[k], ry[k], marker='.',color='xkcd:black', markersize=marker_size)\n",
    "            plt.text(rtx[k], rty[k],rivers[k],color='xkcd:black', fontsize=labelfont)\n",
    "        if i==0:\n",
    "            m.drawparallels(np.arange(-35,-33, 0.2),labels=[1,0,0,0],linewidth=0.3*linefont,dashes=[2,2],color='.5',fontsize=1.0*labelfont)    \n",
    "        ax.spines['left'].set_linewidth(labelpadscale)\n",
    "        ax.spines['top'].set_linewidth(labelpadscale)\n",
    "        ax.spines['right'].set_linewidth(labelpadscale)\n",
    "        ax.spines['bottom'].set_linewidth(labelpadscale)\n",
    "        plt.title(labels[i], fontsize=1.0*labelfont,loc='left',pad=0)\n",
    "        plt.text(mx1,my1,serial_day_to_datestring(scenario_time[j]), color='black', fontsize=1.0*labelfont)\n",
    "    cbaxes1  = fig.add_axes([0.085, 0.33, 0.8, 0.01])\n",
    "    cb1 = plt.colorbar(CB,orientation='horizontal',cax = cbaxes1)\n",
    "    cb1.set_ticks(tick_marks1)\n",
    "    cb1.ax.tick_params(labelsize=1.0*labelfont)\n",
    "    cb1.set_label('(Dye concentration)', fontsize=1.0*labelfont,labelpad=0)    \n",
    "    fig.savefig(directory+'/PUG/Scenario_dye_HSM_'+str(j+1)+'.png')\n",
    "#     plt.close(fig)"
   ]
  },
  {
   "cell_type": "markdown",
   "metadata": {},
   "source": [
    "# Create an animation to show the evolution of dye concentration"
   ]
  },
  {
   "cell_type": "code",
   "execution_count": null,
   "metadata": {},
   "outputs": [],
   "source": [
    "# Read image files\n",
    "img_array = []\n",
    "for i in range(30):\n",
    "    filename=(directory+'/PUG/Scenario_dye_HSM_'+str(i+1)+'.png')\n",
    "    img = cv2.imread(filename)\n",
    "    height, width, layers = img.shape\n",
    "    size = (width,height)\n",
    "    img_array.append(img)\n",
    "\n",
    "## Output the animation   \n",
    "# cv2.VideoWriter(filename, fourcc, fps, framesize, isColor)\n",
    "out = cv2.VideoWriter(directory+'/PUG/Scenario_dye_HSM.avi',cv2.VideoWriter_fourcc(*'DIVX'), 5, size) \n",
    "for i in range(np.size(img_array,0)):\n",
    "    out.write(img_array[i])\n",
    "out.release()\n",
    "# os.system('rm '+directory+'/PUG/Scenario_dye_HSM_*.png')"
   ]
  },
  {
   "cell_type": "markdown",
   "metadata": {},
   "source": [
    "## Python cv2.VideoWriter() Examples\n",
    "### [cv2.VideoWriter](https://www.programcreek.com/python/example/72134/cv2.VideoWriter) "
   ]
  }
 ],
 "metadata": {
  "kernelspec": {
   "display_name": "Jundeli",
   "language": "python",
   "name": "jundeli"
  },
  "language_info": {
   "codemirror_mode": {
    "name": "ipython",
    "version": 3
   },
   "file_extension": ".py",
   "mimetype": "text/x-python",
   "name": "python",
   "nbconvert_exporter": "python",
   "pygments_lexer": "ipython3",
   "version": "3.8.3"
  }
 },
 "nbformat": 4,
 "nbformat_minor": 4
}
