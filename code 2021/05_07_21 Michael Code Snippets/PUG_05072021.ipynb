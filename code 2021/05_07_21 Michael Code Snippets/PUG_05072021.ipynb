{
 "cells": [
  {
   "cell_type": "markdown",
   "metadata": {},
   "source": [
    "<center>\n",
    "    \n",
    "# Python User Group\n",
    "# Tutorial\n",
    "\n",
    "</center>\n",
    "<img src=\"python.jpg\" width=\"100\"/> <img src=\"logo.png\" width=\"150\"/>\n",
    "\n",
    "## Presenter: Michael Hemming\n",
    "\n",
    "# Topic: Python Code Snippets\n"
   ]
  },
  {
   "cell_type": "markdown",
   "metadata": {},
   "source": [
    " "
   ]
  },
  {
   "cell_type": "markdown",
   "metadata": {},
   "source": [
    " # Introduction"
   ]
  },
  {
   "cell_type": "markdown",
   "metadata": {},
   "source": [
    "<font size=\"4\">\n",
    "\n",
    "A demonstration of using a python script like a module, and a  collection of functions useful for dealing with time, binning, and MATLAB data\n"
   ]
  },
  {
   "cell_type": "markdown",
   "metadata": {},
   "source": [
    "# Outline of tutorial:\n",
    "\n",
    "<font size=\"4\">\n",
    "<br>\n",
    "\n",
    "* Using a script as a module\n",
    "<br>\n",
    "* Dealing with time\n",
    "<br>\n",
    "* Selecting data\n",
    "<br>\n",
    "* Some binning\n",
    "<br>\n",
    "* Dealing with MATLAB data"
   ]
  },
  {
   "cell_type": "markdown",
   "metadata": {},
   "source": [
    "# Using a script as a module and Loading data"
   ]
  },
  {
   "cell_type": "markdown",
   "metadata": {},
   "source": [
    "<font size=\"4\">\n",
    "\n",
    "Load Module and check functions"
   ]
  },
  {
   "cell_type": "markdown",
   "metadata": {},
   "source": [
    " "
   ]
  },
  {
   "cell_type": "code",
   "execution_count": null,
   "metadata": {},
   "outputs": [],
   "source": [
    "import PUG_functions as PF"
   ]
  },
  {
   "cell_type": "code",
   "execution_count": null,
   "metadata": {},
   "outputs": [],
   "source": [
    "# If your package is in another directory:\n",
    "\n",
    "# import os\n",
    "# os.chdir('path_to_script')\n",
    "# import PUG_functions as PF\n",
    "# os.chdir('path_back_to_working_dirctory')\n"
   ]
  },
  {
   "cell_type": "markdown",
   "metadata": {},
   "source": [
    " "
   ]
  },
  {
   "cell_type": "code",
   "execution_count": null,
   "metadata": {},
   "outputs": [],
   "source": [
    "PF.__dict__.keys()"
   ]
  },
  {
   "cell_type": "code",
   "execution_count": null,
   "metadata": {},
   "outputs": [],
   "source": [
    "PF.plt.plot(PF.np.arange(0,100,1))"
   ]
  },
  {
   "cell_type": "markdown",
   "metadata": {},
   "source": [
    " "
   ]
  },
  {
   "cell_type": "markdown",
   "metadata": {},
   "source": [
    " "
   ]
  },
  {
   "cell_type": "code",
   "execution_count": null,
   "metadata": {},
   "outputs": [],
   "source": [
    "filename = (\"C:\\\\Users\\\\mphem\\\\Documents\\\\Work\\\\UNSW\\\\climatology\\\\\" +\n",
    "            \"Revamped_scripts\\\\Climatology\\\\Data\\\\Finalised_data\\\\PH100_TEMP\" +\n",
    "            \"_1953-2020_aggregated_v1.nc\")\n",
    "data = PF.xr.open_dataset(filename)\n",
    "filename = (\"C:\\\\Users\\\\mphem\\\\Documents\\\\Work\\\\UNSW\\\\climatology\\\\\" +\n",
    "            \"Revamped_scripts\\\\Climatology\\\\Data\\\\Finalised_data\\\\PH100_TEMP\" +\n",
    "            \"_1953-2020_gridded_v1.nc\")\n",
    "data_grid = PF.xr.open_dataset(filename)"
   ]
  },
  {
   "cell_type": "markdown",
   "metadata": {},
   "source": [
    " "
   ]
  },
  {
   "cell_type": "code",
   "execution_count": null,
   "metadata": {},
   "outputs": [],
   "source": [
    "data"
   ]
  },
  {
   "cell_type": "code",
   "execution_count": null,
   "metadata": {},
   "outputs": [],
   "source": [
    "data_grid"
   ]
  },
  {
   "cell_type": "markdown",
   "metadata": {},
   "source": [
    "# Dealing with time"
   ]
  },
  {
   "cell_type": "markdown",
   "metadata": {},
   "source": [
    "<font size=\"4\">\n",
    "    \n",
    "The difference between datetime and numpy datetime 64\n",
    "    "
   ]
  },
  {
   "cell_type": "markdown",
   "metadata": {},
   "source": [
    "  "
   ]
  },
  {
   "cell_type": "markdown",
   "metadata": {},
   "source": [
    "#### Converting between datetime and datetime 64"
   ]
  },
  {
   "cell_type": "code",
   "execution_count": null,
   "metadata": {},
   "outputs": [],
   "source": [
    "time64 = data.TIME\n",
    "time64"
   ]
  },
  {
   "cell_type": "code",
   "execution_count": null,
   "metadata": {},
   "outputs": [],
   "source": [
    "time_datetime = PF.to_datetime(time64)\n",
    "time_datetime"
   ]
  },
  {
   "cell_type": "code",
   "execution_count": null,
   "metadata": {},
   "outputs": [],
   "source": [
    "test = PF.to_date64(time_datetime)\n",
    "test"
   ]
  },
  {
   "cell_type": "markdown",
   "metadata": {},
   "source": [
    "#### Creating a time range"
   ]
  },
  {
   "cell_type": "code",
   "execution_count": null,
   "metadata": {},
   "outputs": [],
   "source": [
    "t_range = PF.time_range(1900,2100,'daily','np64')\n",
    "t_range"
   ]
  },
  {
   "cell_type": "code",
   "execution_count": null,
   "metadata": {},
   "outputs": [],
   "source": [
    "t_range = PF.time_range(1900,2100,'daily','datetime')\n",
    "t_range"
   ]
  },
  {
   "cell_type": "code",
   "execution_count": null,
   "metadata": {},
   "outputs": [],
   "source": [
    "t_range = PF.time_range(1900,2100,'monthly','np64')\n",
    "t_range"
   ]
  },
  {
   "cell_type": "code",
   "execution_count": null,
   "metadata": {},
   "outputs": [],
   "source": [
    "t_range = PF.time_range(1900,2100,'yearly','np64')\n",
    "t_range"
   ]
  },
  {
   "cell_type": "markdown",
   "metadata": {},
   "source": [
    "#### getting years, months, days, hours, mins, DOY from time"
   ]
  },
  {
   "cell_type": "code",
   "execution_count": null,
   "metadata": {},
   "outputs": [],
   "source": [
    "t_range = PF.time_range(1900,2100,'daily','np64')\n",
    "yr, mn, dy, hr, DOY = PF.datevec(t_range)"
   ]
  },
  {
   "cell_type": "code",
   "execution_count": null,
   "metadata": {},
   "outputs": [],
   "source": [
    "showdata = PF.xr.Dataset({'years': yr, 'months': mn, 'days': dy, 'hours': hr, 'DOY': DOY})"
   ]
  },
  {
   "cell_type": "code",
   "execution_count": null,
   "metadata": {},
   "outputs": [],
   "source": [
    "showdata"
   ]
  },
  {
   "cell_type": "markdown",
   "metadata": {},
   "source": [
    " # Selecting data "
   ]
  },
  {
   "cell_type": "markdown",
   "metadata": {},
   "source": [
    "#### Numpy"
   ]
  },
  {
   "cell_type": "code",
   "execution_count": null,
   "metadata": {},
   "outputs": [],
   "source": [
    "\n",
    "c = [(data.TIME > PF.np.datetime64('2010-01-01')) & (data.TIME < PF.np.datetime64('2015-01-01')) & (data.DEPTH_AGG > 50)]\n",
    "c"
   ]
  },
  {
   "cell_type": "code",
   "execution_count": null,
   "metadata": {},
   "outputs": [],
   "source": [
    "c = PF.np.logical_and([data.TIME > PF.np.datetime64('2010-01-01')],[data.TIME > PF.np.datetime64('2015-01-01')])\n",
    "c"
   ]
  },
  {
   "cell_type": "code",
   "execution_count": null,
   "metadata": {},
   "outputs": [],
   "source": [
    "c = PF.np.logical_or([data.TIME < PF.np.datetime64('2010-01-01')],[data.TIME > PF.np.datetime64('2015-01-01')])\n",
    "c\n",
    "print(PF.np.size(c,0))\n",
    "(PF.np.size(c,1))"
   ]
  },
  {
   "cell_type": "code",
   "execution_count": null,
   "metadata": {},
   "outputs": [],
   "source": [
    "c = [(data.TIME > PF.np.datetime64('2010-01-01')) & (data.TIME < PF.np.datetime64('2015-01-01')) & (data.DEPTH_AGG > 50)]\n",
    "# data.TIME[c]\n",
    "data.TIME[PF.np.squeeze(c)]"
   ]
  },
  {
   "cell_type": "code",
   "execution_count": null,
   "metadata": {},
   "outputs": [],
   "source": [
    "# find \n",
    "fhigh = PF.np.where(data.TEMP_AGG > 25)\n",
    "TIMEhigh = data.TIME[fhigh]\n",
    "DEPTHhigh = PF.np.round(data.DEPTH_AGG[fhigh])\n",
    "PF.np.unique(TIMEhigh)"
   ]
  },
  {
   "cell_type": "code",
   "execution_count": null,
   "metadata": {},
   "outputs": [],
   "source": [
    "PF.np.unique(DEPTHhigh)"
   ]
  },
  {
   "cell_type": "markdown",
   "metadata": {},
   "source": [
    "#### Xarray"
   ]
  },
  {
   "cell_type": "code",
   "execution_count": null,
   "metadata": {},
   "outputs": [],
   "source": [
    "groups = data.groupby(\"TIME.dayofyear\")\n",
    "groups"
   ]
  },
  {
   "cell_type": "code",
   "execution_count": null,
   "metadata": {},
   "outputs": [],
   "source": [
    "grouped_means = data.groupby(\"TIME.dayofyear\").mean(\"TIME\")\n",
    "grouped_means\n",
    "fig = PF.plt.figure(figsize=(10,6))\n",
    "PF.plt.plot(grouped_means.TEMP_AGG)\n",
    "PF.plt.ylabel('Temperature [deg C]')\n",
    "PF.plt.title('Mean Temperature 0-100 m')"
   ]
  },
  {
   "cell_type": "markdown",
   "metadata": {},
   "source": [
    " "
   ]
  },
  {
   "cell_type": "markdown",
   "metadata": {},
   "source": [
    " "
   ]
  },
  {
   "cell_type": "code",
   "execution_count": null,
   "metadata": {},
   "outputs": [],
   "source": [
    "# Using dimensions\n",
    "data20 = data_grid.isel(DEPTH=20)\n",
    "data20\n",
    "fig = PF.plt.figure(figsize=(10,6))\n",
    "PF.plt.plot(data20.TIME_GRID,data20.TEMP_GRID,'.')\n",
    "PF.plt.ylabel('Temperature [deg C]')\n",
    "PF.plt.title('Port Hacking Temperature 20m')"
   ]
  },
  {
   "cell_type": "code",
   "execution_count": null,
   "metadata": {},
   "outputs": [],
   "source": [
    "_, _, _, _, DOY = PF.datevec(data.TIME)\n",
    "DOY = PF.np.array(DOY)\n",
    "DOY"
   ]
  },
  {
   "cell_type": "code",
   "execution_count": null,
   "metadata": {},
   "outputs": [],
   "source": [
    "# create plot of bottle data vs satellite data\n",
    "fig = PF.plt.figure(figsize=(10,6))\n",
    "ax = PF.plt.subplot()\n",
    "PF.plt.rc('font', size=20)\n",
    "c = PF.np.squeeze(PF.np.logical_and([data.TEMP_DATA_PLATFORM_AGG == 1], [data.DEPTH_AGG < 2]))\n",
    "PF.plt.plot(DOY[c],data.TEMP_AGG[c],'.',label='Bottles 1953-2010')\n",
    "c = data.TEMP_DATA_PLATFORM_AGG == 4\n",
    "PF.plt.plot(DOY[c],data.TEMP_AGG[c],'.',label='Satellite 2012-2020')\n",
    "PF.plt.legend()\n",
    "PF.plt.ylabel('Temperature [deg C]')\n",
    "PF.plt.xlabel('Day of Year')\n",
    "PF.plt.title('Port Hacking')\n",
    "PF.plt.grid()"
   ]
  },
  {
   "cell_type": "markdown",
   "metadata": {},
   "source": [
    "# Getting Binned profiles"
   ]
  },
  {
   "cell_type": "markdown",
   "metadata": {},
   "source": [
    " "
   ]
  },
  {
   "cell_type": "markdown",
   "metadata": {},
   "source": [
    " #### Binning data over time"
   ]
  },
  {
   "cell_type": "code",
   "execution_count": null,
   "metadata": {},
   "outputs": [],
   "source": [
    "c = PF.np.squeeze([(data.DEPTH_AGG < 2) & (data.TIME > PF.np.datetime64('2010-01-01'))])\n",
    "daily_bins = PF.bin_over_time(1953,2020,data.TIME[c],data.TEMP_AGG[c],'daily')\n",
    "daily_bins.__dict__.keys()"
   ]
  },
  {
   "cell_type": "code",
   "execution_count": null,
   "metadata": {},
   "outputs": [],
   "source": [
    "monthly_bins = PF.bin_over_time(1953,2020,data.TIME[c],data.TEMP_AGG[c],'monthly')\n",
    "monthly_bins.__dict__.keys()"
   ]
  },
  {
   "cell_type": "code",
   "execution_count": null,
   "metadata": {},
   "outputs": [],
   "source": [
    "yearly_bins = PF.bin_over_time(1953,2020,data.TIME[c],data.TEMP_AGG[c],'yearly')\n",
    "yearly_bins.__dict__.keys()"
   ]
  },
  {
   "cell_type": "markdown",
   "metadata": {},
   "source": [
    " "
   ]
  },
  {
   "cell_type": "code",
   "execution_count": null,
   "metadata": {},
   "outputs": [],
   "source": [
    "# create plot of different binned temperature\n",
    "fig = PF.plt.figure(figsize=(14,9))\n",
    "ax = PF.plt.subplot()\n",
    "PF.plt.rc('font', size=20)\n",
    "PF.plt.plot(data.TIME[c],data.TEMP_AGG[c],'.',label='Raw')\n",
    "PF.plt.plot(monthly_bins.TIME,monthly_bins.MEDIAN,label='Monthly')\n",
    "PF.plt.plot(yearly_bins.TIME,yearly_bins.MEDIAN,label='Yearly')\n",
    "PF.plt.legend()\n",
    "PF.plt.ylabel('Temperature [deg C]')\n",
    "PF.plt.title('Port Hacking')\n",
    "PF.plt.ylim(top=28)\n",
    "PF.plt.grid()"
   ]
  },
  {
   "cell_type": "markdown",
   "metadata": {},
   "source": [
    " #### Binning data over depth"
   ]
  },
  {
   "cell_type": "code",
   "execution_count": null,
   "metadata": {},
   "outputs": [],
   "source": [
    "bin_all = PF.bin_profile(data.TEMP_AGG,data.DEPTH_AGG,data.TIME,'get',2,'all')\n",
    "bin_all.__dict__.keys()"
   ]
  },
  {
   "cell_type": "code",
   "execution_count": null,
   "metadata": {},
   "outputs": [],
   "source": [
    "bin_all.DEPTH"
   ]
  },
  {
   "cell_type": "code",
   "execution_count": null,
   "metadata": {},
   "outputs": [],
   "source": [
    "bin_all.MEAN"
   ]
  },
  {
   "cell_type": "code",
   "execution_count": null,
   "metadata": {},
   "outputs": [],
   "source": [
    "bin_all.MEDIAN"
   ]
  },
  {
   "cell_type": "code",
   "execution_count": null,
   "metadata": {},
   "outputs": [],
   "source": [
    "bin_all.SD"
   ]
  },
  {
   "cell_type": "markdown",
   "metadata": {},
   "source": [
    " "
   ]
  },
  {
   "cell_type": "code",
   "execution_count": null,
   "metadata": {},
   "outputs": [],
   "source": [
    "bin_summer = PF.bin_profile(data.TEMP_AGG,data.DEPTH_AGG,data.TIME,'get',3,'summer')\n",
    "bin_autumn = PF.bin_profile(data.TEMP_AGG,data.DEPTH_AGG,data.TIME,'get',3,'autumn')\n",
    "bin_winter = PF.bin_profile(data.TEMP_AGG,data.DEPTH_AGG,data.TIME,'get',3,'winter')\n",
    "bin_spring = PF.bin_profile(data.TEMP_AGG,data.DEPTH_AGG,data.TIME,'get',3,'spring')"
   ]
  },
  {
   "cell_type": "markdown",
   "metadata": {},
   "source": [
    " #### Create figure showing binned profiles during different seasons"
   ]
  },
  {
   "cell_type": "code",
   "execution_count": null,
   "metadata": {},
   "outputs": [],
   "source": [
    "fig = PF.plt.figure(figsize=(6,10))\n",
    "ax = PF.plt.subplot()\n",
    "PF.plt.rc('font', size=20)\n",
    "PF.plt.plot(bin_all.MEAN,bin_all.DEPTH,label='All data',color='k');\n",
    "PF.plt.scatter(bin_all.MEAN,bin_all.DEPTH,color='k');\n",
    "PF.plt.plot(bin_summer.MEAN,bin_summer.DEPTH,label='Summer',color='gold');\n",
    "PF.plt.scatter(bin_summer.MEAN,bin_summer.DEPTH,color='gold');\n",
    "PF.plt.plot(bin_autumn.MEAN,bin_autumn.DEPTH,label='Autumn',color='darkgoldenrod');\n",
    "PF.plt.scatter(bin_autumn.MEAN,bin_autumn.DEPTH,color='darkgoldenrod');\n",
    "PF.plt.plot(bin_winter.MEAN,bin_winter.DEPTH,label='Winter',color='dodgerblue');\n",
    "PF.plt.scatter(bin_winter.MEAN,bin_winter.DEPTH,color='dodgerblue');\n",
    "PF.plt.plot(bin_spring.MEAN,bin_spring.DEPTH,label='Spring',color='limegreen');\n",
    "PF.plt.scatter(bin_spring.MEAN,bin_spring.DEPTH,color='limegreen');\n",
    "ax.invert_yaxis()\n",
    "ax.grid()\n",
    "PF.plt.ylim(top=0,bottom=100)\n",
    "PF.plt.ylabel('Depth [m]')\n",
    "PF.plt.xlabel('Temperature [deg C]')\n",
    "PF.plt.legend()\n",
    "PF.plt.title('Port Hacking')"
   ]
  },
  {
   "cell_type": "markdown",
   "metadata": {},
   "source": [
    " "
   ]
  },
  {
   "cell_type": "markdown",
   "metadata": {},
   "source": [
    "#### Plot profile with standard deviation \n",
    "\n"
   ]
  },
  {
   "cell_type": "markdown",
   "metadata": {},
   "source": [
    " ## Loading, converting, and saving MATLAB data"
   ]
  },
  {
   "cell_type": "markdown",
   "metadata": {},
   "source": [
    " "
   ]
  },
  {
   "cell_type": "code",
   "execution_count": null,
   "metadata": {},
   "outputs": [],
   "source": [
    "filename = 'C:\\\\Users\\\\mphem\\\\Documents\\\\Work\\\\UNSW\\\\Python\\\\python_group_2021\\\\code 2021\\\\05_07_21 Michael Code Snippets\\\\SYDAIR.mat'\n",
    "MAT_data = PF.load_MATfile(filename)\n",
    "MAT_data.__dict__.keys()"
   ]
  },
  {
   "cell_type": "code",
   "execution_count": null,
   "metadata": {},
   "outputs": [],
   "source": [
    "AIR_TEMP = PF.np.squeeze(MAT_data.AIR_TEMP)\n",
    "TIME = PF.np.squeeze(MAT_data.TIME)\n",
    "TIME = PF.matlabdn2datetime(TIME)      \n",
    "TIME[0:10]"
   ]
  },
  {
   "cell_type": "code",
   "execution_count": null,
   "metadata": {},
   "outputs": [],
   "source": [
    "TIME = PF.to_date64(TIME)\n",
    "TIME[0:10]"
   ]
  },
  {
   "cell_type": "code",
   "execution_count": null,
   "metadata": {},
   "outputs": [],
   "source": [
    "fig = PF.plt.figure(figsize=(15,10))\n",
    "ax = PF.plt.subplot()\n",
    "PF.plt.rc('font', size=20)\n",
    "PF.plt.plot(TIME,AIR_TEMP,color='k');\n",
    "ax.grid()\n",
    "PF.plt.ylabel('Air Temperature Anomaly [deg C]')\n",
    "PF.plt.title('Sydney Airport')"
   ]
  },
  {
   "cell_type": "code",
   "execution_count": null,
   "metadata": {},
   "outputs": [],
   "source": [
    "# saving data as mat file\n",
    "# Has to be a dictionary, which is Python's data structure\n",
    "\n",
    "TIME = MAT_data.TIME\n",
    "saving_dict = {'AIR_TEMP':AIR_TEMP,\n",
    "               'TIME': TIME}\n",
    "\n",
    "PF.savemat(\"C:\\\\Users\\\\mphem\\\\Documents\\\\Work\\\\UNSW\\\\Python\\\\python_group_2021\\\\code 2021\\\\05_07_21 Michael Code Snippets\\\\data.mat\", saving_dict)"
   ]
  },
  {
   "cell_type": "markdown",
   "metadata": {},
   "source": [
    " "
   ]
  },
  {
   "cell_type": "markdown",
   "metadata": {},
   "source": [
    " "
   ]
  },
  {
   "cell_type": "markdown",
   "metadata": {},
   "source": [
    "\n",
    " "
   ]
  },
  {
   "cell_type": "markdown",
   "metadata": {},
   "source": [
    " "
   ]
  },
  {
   "cell_type": "markdown",
   "metadata": {},
   "source": [
    " "
   ]
  },
  {
   "cell_type": "markdown",
   "metadata": {},
   "source": [
    " "
   ]
  },
  {
   "cell_type": "markdown",
   "metadata": {},
   "source": [
    "  "
   ]
  }
 ],
 "metadata": {
  "kernelspec": {
   "display_name": "Python 3",
   "language": "python",
   "name": "python3"
  },
  "language_info": {
   "codemirror_mode": {
    "name": "ipython",
    "version": 3
   },
   "file_extension": ".py",
   "mimetype": "text/x-python",
   "name": "python",
   "nbconvert_exporter": "python",
   "pygments_lexer": "ipython3",
   "version": "3.8.5"
  },
  "toc-autonumbering": false,
  "varInspector": {
   "cols": {
    "lenName": 16,
    "lenType": 16,
    "lenVar": 40
   },
   "kernels_config": {
    "python": {
     "delete_cmd_postfix": "",
     "delete_cmd_prefix": "del ",
     "library": "var_list.py",
     "varRefreshCmd": "print(var_dic_list())"
    },
    "r": {
     "delete_cmd_postfix": ") ",
     "delete_cmd_prefix": "rm(",
     "library": "var_list.r",
     "varRefreshCmd": "cat(var_dic_list()) "
    }
   },
   "oldHeight": 698.85,
   "position": {
    "height": "92px",
    "left": "842px",
    "right": "20px",
    "top": "45px",
    "width": "570px"
   },
   "types_to_exclude": [
    "module",
    "function",
    "builtin_function_or_method",
    "instance",
    "_Feature"
   ],
   "varInspector_section_display": "none",
   "window_display": false
  }
 },
 "nbformat": 4,
 "nbformat_minor": 4
}
