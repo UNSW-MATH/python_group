{
 "cells": [
  {
   "cell_type": "markdown",
   "metadata": {},
   "source": [
    "# Python Data Model"
   ]
  },
  {
   "cell_type": "markdown",
   "metadata": {},
   "source": [
    "## Args and Kwargs"
   ]
  },
  {
   "cell_type": "code",
   "execution_count": 270,
   "metadata": {},
   "outputs": [],
   "source": [
    "def sumlist(a=1, *nums):\n",
    "    return nums[0] + sumlist(*nums[1:]) if len(nums) > 1 else nums[0]"
   ]
  },
  {
   "cell_type": "code",
   "execution_count": 301,
   "metadata": {},
   "outputs": [
    {
     "data": {
      "text/plain": [
       "7"
      ]
     },
     "execution_count": 301,
     "metadata": {},
     "output_type": "execute_result"
    }
   ],
   "source": [
    "args = [1,2,4,5]\n",
    "sumlist(*args) "
   ]
  },
  {
   "cell_type": "code",
   "execution_count": 302,
   "metadata": {},
   "outputs": [],
   "source": [
    "def shopping_total(**shopping):\n",
    "    shopping['total'] = sumlist(*shopping.values())\n",
    "    return shopping"
   ]
  },
  {
   "cell_type": "code",
   "execution_count": 303,
   "metadata": {},
   "outputs": [
    {
     "data": {
      "text/plain": [
       "{'eggs': 5, 'bread': 10, 'total': 10}"
      ]
     },
     "execution_count": 303,
     "metadata": {},
     "output_type": "execute_result"
    }
   ],
   "source": [
    "shopping_total(eggs=5, bread = 10)"
   ]
  },
  {
   "cell_type": "code",
   "execution_count": 269,
   "metadata": {},
   "outputs": [
    {
     "data": {
      "text/plain": [
       "<function __main__.sumlist(*nums)>"
      ]
     },
     "execution_count": 269,
     "metadata": {},
     "output_type": "execute_result"
    }
   ],
   "source": [
    "sumlist"
   ]
  },
  {
   "cell_type": "code",
   "execution_count": 271,
   "metadata": {},
   "outputs": [
    {
     "data": {
      "text/plain": [
       "((1,),\n",
       " <code object sumlist at 0x2b71aea80390, file \"<ipython-input-270-04d7365cbcc2>\", line 1>,\n",
       " ('a', 'nums'))"
      ]
     },
     "execution_count": 271,
     "metadata": {},
     "output_type": "execute_result"
    }
   ],
   "source": [
    "sumlist.__defaults__, sumlist.__code__, sumlist.__code__.co_varnames"
   ]
  },
  {
   "cell_type": "code",
   "execution_count": 272,
   "metadata": {},
   "outputs": [
    {
     "name": "stdout",
     "output_type": "stream",
     "text": [
      "def sumlist(a=1, *nums):\n",
      "    return nums[0] + sumlist(*nums[1:]) if len(nums) > 1 else nums[0]\n",
      "\n"
     ]
    }
   ],
   "source": [
    "from inspect import getsource\n",
    "print(getsource(sumlist))"
   ]
  },
  {
   "cell_type": "code",
   "execution_count": 273,
   "metadata": {},
   "outputs": [
    {
     "name": "stdout",
     "output_type": "stream",
     "text": [
      "  2           0 LOAD_GLOBAL              0 (len)\n",
      "              2 LOAD_FAST                1 (nums)\n",
      "              4 CALL_FUNCTION            1\n",
      "              6 LOAD_CONST               1 (1)\n",
      "              8 COMPARE_OP               4 (>)\n",
      "             10 POP_JUMP_IF_FALSE       36\n",
      "             12 LOAD_FAST                1 (nums)\n",
      "             14 LOAD_CONST               2 (0)\n",
      "             16 BINARY_SUBSCR\n",
      "             18 LOAD_GLOBAL              1 (sumlist)\n",
      "             20 LOAD_FAST                1 (nums)\n",
      "             22 LOAD_CONST               1 (1)\n",
      "             24 LOAD_CONST               0 (None)\n",
      "             26 BUILD_SLICE              2\n",
      "             28 BINARY_SUBSCR\n",
      "             30 CALL_FUNCTION_EX         0\n",
      "             32 BINARY_ADD\n",
      "             34 RETURN_VALUE\n",
      "        >>   36 LOAD_FAST                1 (nums)\n",
      "             38 LOAD_CONST               2 (0)\n",
      "             40 BINARY_SUBSCR\n",
      "             42 RETURN_VALUE\n"
     ]
    }
   ],
   "source": [
    "from dis import dis\n",
    "dis(sumlist)"
   ]
  },
  {
   "cell_type": "markdown",
   "metadata": {},
   "source": [
    "## Class"
   ]
  },
  {
   "cell_type": "code",
   "execution_count": 305,
   "metadata": {},
   "outputs": [
    {
     "data": {
      "text/plain": [
       "(4, 4)"
      ]
     },
     "execution_count": 305,
     "metadata": {},
     "output_type": "execute_result"
    }
   ],
   "source": [
    "a = [1,2,4,5]\n",
    "len(a), a.__len__()   "
   ]
  },
  {
   "cell_type": "code",
   "execution_count": 306,
   "metadata": {},
   "outputs": [],
   "source": [
    "from itertools import zip_longest\n",
    "\n",
    "class polynomial:\n",
    "    def __init__(self, *coeffs):\n",
    "        self.coeffs = coeffs\n",
    "        self.order = len(self.coeffs) - 1\n",
    "        \n",
    "    def __len__(self):\n",
    "        return self.order + 1\n",
    "    \n",
    "    def __repr__(self):\n",
    "        return f'{self.coeffs[0]}x^{self.order} + ' + polynomial(*self.coeffs[1:]).__repr__() if self.order > 0 else f'{self.coeffs[0]}'\n",
    "    \n",
    "    def __add__(self, other):\n",
    "        new_coeffs = (x + y for x, y in zip_longest(reversed(self.coeffs), reversed(other.coeffs), fillvalue=0))\n",
    "        return polynomial(*reversed(list(new_coeffs)))\n",
    "    \n",
    "    def __call__(self, at):\n",
    "        return self.coeffs[0]*at**(self.order) + polynomial(*self.coeffs[1:])(at) if self.order > 0 else self.coeffs[0]"
   ]
  },
  {
   "cell_type": "code",
   "execution_count": 307,
   "metadata": {},
   "outputs": [],
   "source": [
    "p1 = polynomial(1,2,3)\n",
    "p2 = polynomial(4,5)"
   ]
  },
  {
   "cell_type": "code",
   "execution_count": 308,
   "metadata": {},
   "outputs": [
    {
     "data": {
      "text/plain": [
       "((1, 2, 3), 2)"
      ]
     },
     "execution_count": 308,
     "metadata": {},
     "output_type": "execute_result"
    }
   ],
   "source": [
    "p1.coeffs, p1.order"
   ]
  },
  {
   "cell_type": "code",
   "execution_count": 309,
   "metadata": {},
   "outputs": [
    {
     "data": {
      "text/plain": [
       "2"
      ]
     },
     "execution_count": 309,
     "metadata": {},
     "output_type": "execute_result"
    }
   ],
   "source": [
    "len(p2)"
   ]
  },
  {
   "cell_type": "code",
   "execution_count": 310,
   "metadata": {},
   "outputs": [
    {
     "data": {
      "text/plain": [
       "1x^2 + 2x^1 + 3"
      ]
     },
     "execution_count": 310,
     "metadata": {},
     "output_type": "execute_result"
    }
   ],
   "source": [
    "p1"
   ]
  },
  {
   "cell_type": "code",
   "execution_count": 311,
   "metadata": {},
   "outputs": [
    {
     "data": {
      "text/plain": [
       "1x^2 + 6x^1 + 8"
      ]
     },
     "execution_count": 311,
     "metadata": {},
     "output_type": "execute_result"
    }
   ],
   "source": [
    "p1 + p2"
   ]
  },
  {
   "cell_type": "code",
   "execution_count": 312,
   "metadata": {},
   "outputs": [
    {
     "data": {
      "text/plain": [
       "11.61"
      ]
     },
     "execution_count": 312,
     "metadata": {},
     "output_type": "execute_result"
    }
   ],
   "source": [
    "p1(2.1)"
   ]
  },
  {
   "cell_type": "markdown",
   "metadata": {},
   "source": [
    "## Decorators"
   ]
  },
  {
   "cell_type": "code",
   "execution_count": 317,
   "metadata": {},
   "outputs": [],
   "source": [
    "def add(x,y=10):\n",
    "    return x + y"
   ]
  },
  {
   "cell_type": "code",
   "execution_count": 318,
   "metadata": {},
   "outputs": [],
   "source": [
    "from time import time"
   ]
  },
  {
   "cell_type": "code",
   "execution_count": 319,
   "metadata": {},
   "outputs": [
    {
     "name": "stdout",
     "output_type": "stream",
     "text": [
      "elapsed: 0.00020122528076171875\n"
     ]
    }
   ],
   "source": [
    "before = time()\n",
    "add(1,2)\n",
    "after = time()\n",
    "print(f'elapsed: {after - before}')"
   ]
  },
  {
   "cell_type": "code",
   "execution_count": 320,
   "metadata": {},
   "outputs": [
    {
     "name": "stdout",
     "output_type": "stream",
     "text": [
      "elapsed: 1.430511474609375e-06\n"
     ]
    },
    {
     "data": {
      "text/plain": [
       "3"
      ]
     },
     "execution_count": 320,
     "metadata": {},
     "output_type": "execute_result"
    }
   ],
   "source": [
    "def timer(func, *args, **kwargs):\n",
    "    before = time()\n",
    "    rv = func(*args, **kwargs)\n",
    "    after = time()\n",
    "    print(f'elapsed: {after - before}')\n",
    "    return rv\n",
    "\n",
    "timer(add,1,2)"
   ]
  },
  {
   "cell_type": "code",
   "execution_count": 321,
   "metadata": {},
   "outputs": [
    {
     "data": {
      "text/plain": [
       "13"
      ]
     },
     "execution_count": 321,
     "metadata": {},
     "output_type": "execute_result"
    }
   ],
   "source": [
    "add(6,7)"
   ]
  },
  {
   "cell_type": "code",
   "execution_count": 322,
   "metadata": {},
   "outputs": [
    {
     "name": "stdout",
     "output_type": "stream",
     "text": [
      "elapsed add: 1.6689300537109375e-06\n"
     ]
    },
    {
     "data": {
      "text/plain": [
       "3"
      ]
     },
     "execution_count": 322,
     "metadata": {},
     "output_type": "execute_result"
    }
   ],
   "source": [
    "def timer(func, *args):\n",
    "    def inner(*args):\n",
    "        before = time()\n",
    "        rv = func(*args)\n",
    "        after = time()\n",
    "        print(f'elapsed {func.__name__}: {after - before}')\n",
    "        return rv\n",
    "    return inner\n",
    "\n",
    "add = timer(add)\n",
    "\n",
    "add(1,2)"
   ]
  },
  {
   "cell_type": "code",
   "execution_count": 323,
   "metadata": {},
   "outputs": [
    {
     "name": "stdout",
     "output_type": "stream",
     "text": [
      "elapsed add: 1.6689300537109375e-06\n",
      "elapsed sub: 2.384185791015625e-06\n"
     ]
    },
    {
     "data": {
      "text/plain": [
       "(13, -10)"
      ]
     },
     "execution_count": 323,
     "metadata": {},
     "output_type": "execute_result"
    }
   ],
   "source": [
    "@timer\n",
    "def add(x,y=10):\n",
    "    return x + y\n",
    "@timer\n",
    "def sub(x,y):\n",
    "    return x-y\n",
    "\n",
    "add(6,7), sub(10,20)"
   ]
  },
  {
   "cell_type": "markdown",
   "metadata": {},
   "source": [
    "## Generators"
   ]
  },
  {
   "cell_type": "code",
   "execution_count": 291,
   "metadata": {},
   "outputs": [],
   "source": [
    "from scipy.integrate import quad"
   ]
  },
  {
   "cell_type": "code",
   "execution_count": 292,
   "metadata": {},
   "outputs": [
    {
     "data": {
      "text/plain": [
       "(22.133333333333333, 2.4572936278370133e-13)"
      ]
     },
     "execution_count": 292,
     "metadata": {},
     "output_type": "execute_result"
    }
   ],
   "source": [
    "quad(polynomial(1,1,1,1,1), -2, 2)"
   ]
  },
  {
   "cell_type": "code",
   "execution_count": 293,
   "metadata": {},
   "outputs": [],
   "source": [
    "def rep(x, n):\n",
    "    return [x for _ in range(n)]"
   ]
  },
  {
   "cell_type": "code",
   "execution_count": 294,
   "metadata": {},
   "outputs": [
    {
     "data": {
      "text/plain": [
       "[1, 1, 1, 1, 1, 1, 1, 1, 1, 1]"
      ]
     },
     "execution_count": 294,
     "metadata": {},
     "output_type": "execute_result"
    }
   ],
   "source": [
    "rep(1, 10)"
   ]
  },
  {
   "cell_type": "code",
   "execution_count": 295,
   "metadata": {},
   "outputs": [
    {
     "data": {
      "text/plain": [
       "[(4.0, 4.440892098500626e-14),\n",
       " (4.0, 5.557335361613839e-14),\n",
       " (9.333333333333332, 1.0362081563168127e-13),\n",
       " (9.333333333333332, 1.463037600738554e-13),\n",
       " (22.133333333333333, 2.4572936278370133e-13),\n",
       " (22.133333333333333, 3.839506718631404e-13),\n",
       " (58.70476190476191, 6.517537832180443e-13),\n",
       " (58.70476190476191, 1.0949432284556056e-12),\n",
       " (172.48253968253968, 1.914940869013778e-12),\n",
       " (172.4825396825397, 3.36897185512911e-12)]"
      ]
     },
     "execution_count": 295,
     "metadata": {},
     "output_type": "execute_result"
    }
   ],
   "source": [
    "def compute(N):\n",
    "    rv = []\n",
    "    for n in range(N):\n",
    "        coeffs = rep(1,n+1)\n",
    "        rv.append(quad(polynomial(*coeffs), -2, 2))\n",
    "    return rv\n",
    "\n",
    "compute(10)"
   ]
  },
  {
   "cell_type": "code",
   "execution_count": 296,
   "metadata": {},
   "outputs": [
    {
     "data": {
      "text/plain": [
       "[(4.0, 4.440892098500626e-14),\n",
       " (4.0, 5.557335361613839e-14),\n",
       " (9.333333333333332, 1.0362081563168127e-13),\n",
       " (9.333333333333332, 1.463037600738554e-13),\n",
       " (22.133333333333333, 2.4572936278370133e-13),\n",
       " (22.133333333333333, 3.839506718631404e-13),\n",
       " (58.70476190476191, 6.517537832180443e-13),\n",
       " (58.70476190476191, 1.0949432284556056e-12),\n",
       " (172.48253968253968, 1.914940869013778e-12),\n",
       " (172.4825396825397, 3.36897185512911e-12)]"
      ]
     },
     "execution_count": 296,
     "metadata": {},
     "output_type": "execute_result"
    }
   ],
   "source": [
    "class computeclass:\n",
    "    def __call__(self, N):\n",
    "        rv = []\n",
    "        for n in range(N):\n",
    "            coeffs = rep(1,n+1)\n",
    "            rv.append(quad(polynomial(*coeffs), -2, 2))\n",
    "        return rv\n",
    "    \n",
    "compute = computeclass()\n",
    "compute(10)"
   ]
  },
  {
   "cell_type": "code",
   "execution_count": 297,
   "metadata": {},
   "outputs": [
    {
     "data": {
      "text/plain": [
       "[(4.0, 4.440892098500626e-14),\n",
       " (4.0, 5.557335361613839e-14),\n",
       " (9.333333333333332, 1.0362081563168127e-13),\n",
       " (9.333333333333332, 1.463037600738554e-13),\n",
       " (22.133333333333333, 2.4572936278370133e-13),\n",
       " (22.133333333333333, 3.839506718631404e-13),\n",
       " (58.70476190476191, 6.517537832180443e-13),\n",
       " (58.70476190476191, 1.0949432284556056e-12),\n",
       " (172.48253968253968, 1.914940869013778e-12),\n",
       " (172.4825396825397, 3.36897185512911e-12)]"
      ]
     },
     "execution_count": 297,
     "metadata": {},
     "output_type": "execute_result"
    }
   ],
   "source": [
    "class computeclass:\n",
    "    def __init__(self, N):\n",
    "        self.n = 0\n",
    "        self.N = N\n",
    "    \n",
    "    def __iter__(self):\n",
    "        return self\n",
    "        \n",
    "    def __next__(self):\n",
    "        self.n += 1\n",
    "        if self.n > self.N:\n",
    "            raise StopIteration()\n",
    "        coeffs = rep(1,self.n)\n",
    "        return quad(polynomial(*coeffs), -2, 2) \n",
    "    \n",
    "compute = computeclass(N)\n",
    "[x for x in compute]"
   ]
  },
  {
   "cell_type": "code",
   "execution_count": 298,
   "metadata": {},
   "outputs": [],
   "source": [
    "compute = computeclass(N)"
   ]
  },
  {
   "cell_type": "code",
   "execution_count": 299,
   "metadata": {},
   "outputs": [
    {
     "data": {
      "text/plain": [
       "((4.0, 4.440892098500626e-14),\n",
       " (4.0, 5.557335361613839e-14),\n",
       " (9.333333333333332, 1.0362081563168127e-13),\n",
       " (9.333333333333332, 1.463037600738554e-13),\n",
       " (22.133333333333333, 2.4572936278370133e-13),\n",
       " (22.133333333333333, 3.839506718631404e-13),\n",
       " (58.70476190476191, 6.517537832180443e-13))"
      ]
     },
     "execution_count": 299,
     "metadata": {},
     "output_type": "execute_result"
    }
   ],
   "source": [
    "next(compute), next(compute), next(compute), next(compute), next(compute), next(compute), next(compute) "
   ]
  },
  {
   "cell_type": "code",
   "execution_count": null,
   "metadata": {},
   "outputs": [],
   "source": [
    "# for x in range(10):\n",
    "#     pass\n",
    "\n",
    "# xi = iter(range(10))        # xi -> __iter__()\n",
    "# while True:\n",
    "#     x = next(xi)            # x  -> __next__()"
   ]
  },
  {
   "cell_type": "code",
   "execution_count": 300,
   "metadata": {},
   "outputs": [
    {
     "data": {
      "text/plain": [
       "[(4.0, 4.440892098500626e-14),\n",
       " (4.0, 5.557335361613839e-14),\n",
       " (9.333333333333332, 1.0362081563168127e-13),\n",
       " (9.333333333333332, 1.463037600738554e-13),\n",
       " (22.133333333333333, 2.4572936278370133e-13),\n",
       " (22.133333333333333, 3.839506718631404e-13),\n",
       " (58.70476190476191, 6.517537832180443e-13),\n",
       " (58.70476190476191, 1.0949432284556056e-12),\n",
       " (172.48253968253968, 1.914940869013778e-12),\n",
       " (172.4825396825397, 3.36897185512911e-12)]"
      ]
     },
     "execution_count": 300,
     "metadata": {},
     "output_type": "execute_result"
    }
   ],
   "source": [
    "def compute(N):\n",
    "    for n in range(N):\n",
    "        coeffs = rep(1,n+1)\n",
    "        yield quad(polynomial(*coeffs), -2, 2)\n",
    "    \n",
    "\n",
    "[x for x in compute(10)]"
   ]
  },
  {
   "cell_type": "markdown",
   "metadata": {},
   "source": [
    "### Context managers are simply generators"
   ]
  },
  {
   "cell_type": "code",
   "execution_count": null,
   "metadata": {},
   "outputs": [],
   "source": [
    "# import pickle\n",
    "# with open('./data.pickle', 'wb') as picklein:\n",
    "#     pickle.dump(p1, picklein)"
   ]
  },
  {
   "cell_type": "markdown",
   "metadata": {},
   "source": [
    "### [James Powell's PyData Seattle 2017 Talk](https://www.youtube.com/watch?v=cKPlPJyQrt4)"
   ]
  }
 ],
 "metadata": {
  "kernelspec": {
   "display_name": "Python 3",
   "language": "python",
   "name": "python3"
  },
  "language_info": {
   "codemirror_mode": {
    "name": "ipython",
    "version": 3
   },
   "file_extension": ".py",
   "mimetype": "text/x-python",
   "name": "python",
   "nbconvert_exporter": "python",
   "pygments_lexer": "ipython3",
   "version": "3.7.3"
  }
 },
 "nbformat": 4,
 "nbformat_minor": 4
}
