{
 "cells": [
  {
   "cell_type": "markdown",
   "metadata": {},
   "source": [
    "# How to use Python to create beautiful plots for scientific publications ?\n",
    "# 3. Taylor diagram\n",
    "### [SkillMetrics](https://github.com/PeterRochford/SkillMetrics)"
   ]
  },
  {
   "cell_type": "markdown",
   "metadata": {},
   "source": [
    "##### %%%%%%%%%%%%%%%%%%%%%%%%%%%%%%%%%%%%%%%%%%%%%%%%%%%%%%%%%%%%%%%%%%%%%%%%%%%%% \n",
    "# Import Packages"
   ]
  },
  {
   "cell_type": "code",
   "execution_count": null,
   "metadata": {},
   "outputs": [],
   "source": [
    "import os \n",
    "import numpy as np\n",
    "import matplotlib as mpl\n",
    "import skill_metrics as sm\n",
    "import matplotlib.pyplot as plt\n",
    "from matplotlib import rcParams\n",
    "from collections import OrderedDict\n",
    "from scipy.interpolate import griddata\n",
    "from datetime import datetime, timedelta"
   ]
  },
  {
   "cell_type": "markdown",
   "metadata": {},
   "source": [
    "# Load data"
   ]
  },
  {
   "cell_type": "code",
   "execution_count": null,
   "metadata": {},
   "outputs": [],
   "source": [
    "SSTA_monthly=np.load(\"SSTA_monthly.npy\",allow_pickle=True)\n",
    "GHRSST_ssta_monthly_200m        = SSTA_monthly[0,:]\n",
    "barraR_tide_ssta_monthly_200m   = SSTA_monthly[1,:]\n",
    "barraR_notide_ssta_monthly_200m = SSTA_monthly[2,:]\n",
    "ncep_ssta_monthly_200m          = SSTA_monthly[3,:]"
   ]
  },
  {
   "cell_type": "markdown",
   "metadata": {},
   "source": [
    "# Plot Taylor Diagram"
   ]
  },
  {
   "cell_type": "code",
   "execution_count": null,
   "metadata": {},
   "outputs": [],
   "source": [
    "fig = plt.figure(figsize=(30, 30))\n",
    "rcParams['lines.linewidth'] = 2 # line width for plots\n",
    "rcParams.update({'font.size': 60}) # font size of axes text\n",
    "fontscale=100\n",
    "markerscale=80\n",
    "colors = ['tab:blue','tab:green','tab:orange']\n",
    "ax = fig.add_subplot(111) \n",
    "l, b, w, h = ax.get_position().bounds\n",
    "ax.set_position([l, b, w, h])\n",
    "for i in range(3):\n",
    "    # Taylor statistics\n",
    "    if i==0:\n",
    "        taylor_stats = sm.taylor_statistics(GHRSST_ssta_monthly_200m,barraR_tide_ssta_monthly_200m)\n",
    "    elif i==1: \n",
    "        taylor_stats = sm.taylor_statistics(GHRSST_ssta_monthly_200m,barraR_notide_ssta_monthly_200m) \n",
    "    else:\n",
    "        taylor_stats = sm.taylor_statistics(GHRSST_ssta_monthly_200m,ncep_ssta_monthly_200m)\n",
    "    sdev  = np.array([1,taylor_stats['sdev'][1]/taylor_stats['sdev'][0]])\n",
    "    crmsd = np.array([0,taylor_stats['crmsd'][1]/taylor_stats['sdev'][0]])\n",
    "    ccoef = np.array([1,taylor_stats['ccoef'][1]])\n",
    "    # Taylor diagram\n",
    "    if i==0:\n",
    "        sm.taylor_diagram(sdev, crmsd, ccoef,markerSize=markerscale,markerColor=colors[i], MarkerDisplayed='marker',axismax=1.5,\n",
    "                          colRMS='g', styleRMS=':', widthRMS=10.0, titleRMS='off', tickRMS = [0,0.25,0.5,0.75,1.00,1.25,1.5],\n",
    "                          colSTD='k', styleSTD='--', widthSTD=10.0, titleSTD ='on', tickSTD = [0.25,0.5,0.75,1.00,1.25,1.5],\n",
    "                          colCOR='b', styleCOR='--', widthCOR=10.0, titleCOR='on', \n",
    "                          colOBS='k', styleOBS='-', widthOBS=10.0,  markerobs = '.',titleOBS = 'Normalized Standard Deviation')  \n",
    "    else:\n",
    "        sm.taylor_diagram(sdev, crmsd, ccoef, markerSize=markerscale,markerColor=colors[i],MarkerDisplayed='marker', axismax=1.5,\n",
    "                          overlay = 'on')\n",
    "#% Add legend for the Taylor diagram\n",
    "ax = fig.add_subplot(facecolor='0.96' ) \n",
    "ax.set_position([0.4, 0.91, 0.52, 0.05])\n",
    "labels = ['Tide', 'NoTide','NCEP']  \n",
    "xloc   = np.array([0.05,0.34,0.74])\n",
    "yloc   = np.array([0.5,0.3])\n",
    "for ind in range(3):\n",
    "    x_loc = xloc[ind]\n",
    "    y_loc = yloc[0]\n",
    "    plt.text(x_loc, y_loc, labels[ind], ha='left', va='center',color='black', fontsize=fontscale)\n",
    "    plt.scatter(x_loc-0.02, y_loc,marker='o',color=colors[ind],s=2000)\n",
    "plt.tick_params(bottom='off',left='off',top='off',right='off',length=0,width=0,colors='black')\n",
    "plt.xticks(fontsize=0)\n",
    "plt.yticks(fontsize=0)\n",
    "plt.xlim(0,1.0)\n",
    "plt.ylim(0,1.0)"
   ]
  },
  {
   "cell_type": "code",
   "execution_count": null,
   "metadata": {},
   "outputs": [],
   "source": []
  }
 ],
 "metadata": {
  "kernelspec": {
   "display_name": "Python 3",
   "language": "python",
   "name": "python3"
  },
  "language_info": {
   "codemirror_mode": {
    "name": "ipython",
    "version": 3
   },
   "file_extension": ".py",
   "mimetype": "text/x-python",
   "name": "python",
   "nbconvert_exporter": "python",
   "pygments_lexer": "ipython3",
   "version": "3.8.5"
  }
 },
 "nbformat": 4,
 "nbformat_minor": 4
}
