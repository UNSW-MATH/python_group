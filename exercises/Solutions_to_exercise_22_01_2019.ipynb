{
 "cells": [
  {
   "cell_type": "markdown",
   "metadata": {},
   "source": [
    "## Solutions to exercises 7 - 9"
   ]
  },
  {
   "cell_type": "markdown",
   "metadata": {},
   "source": [
    " "
   ]
  },
  {
   "cell_type": "markdown",
   "metadata": {},
   "source": [
    "#### Question 7\n",
    "Level 2\n",
    "\n",
    "Write a program which takes 2 digits, X,Y as input and generates a 2-dimensional array. The element value in the i-th row and j-th column of the array should be i*j.\n",
    "\n",
    "Note: i=0,1.., X-1; j=0,1,¡Y-1.\n",
    "\n",
    "##### Example:\n",
    "\n",
    "Suppose the following inputs are given to the program:\n",
    "3,5\n",
    "\n",
    "Then, the output of the program should be:\n",
    "[[0, 0, 0, 0, 0], [0, 1, 2, 3, 4], [0, 2, 4, 6, 8]] \n",
    "\n",
    "##### Hints:\n",
    "Note: In case of input data being supplied to the question, it should be assumed to be a console input in a comma-separated form."
   ]
  },
  {
   "cell_type": "code",
   "execution_count": 1,
   "metadata": {
    "collapsed": false
   },
   "outputs": [
    {
     "name": "stdout",
     "output_type": "stream",
     "text": [
      "3,5\n"
     ]
    }
   ],
   "source": [
    "# ask user to input 2 values (as string)\n",
    "input_str = input()\n",
    "# convert from string to integers, seperated by commas\n",
    "dimensions = [int(x) for x in input_str.split(',')]"
   ]
  },
  {
   "cell_type": "code",
   "execution_count": 2,
   "metadata": {
    "collapsed": false
   },
   "outputs": [
    {
     "name": "stdout",
     "output_type": "stream",
     "text": [
      "[[0, 0, 0, 0, 0], [0, 0, 0, 0, 0], [0, 0, 0, 0, 0]]\n"
     ]
    }
   ],
   "source": [
    "# Obtain row and column lengths\n",
    "rowNum=dimensions[0]\n",
    "colNum=dimensions[1]\n",
    "# populate a 3x5 matrix with zeros\n",
    "multilist = [0 for col in range(colNum)] for row in range(rowNum)] # range() like numel() in MATLAB\n",
    "print(multilist)"
   ]
  },
  {
   "cell_type": "code",
   "execution_count": 3,
   "metadata": {
    "collapsed": false
   },
   "outputs": [
    {
     "name": "stdout",
     "output_type": "stream",
     "text": [
      "[[0, 0, 0, 0, 0], [0, 1, 2, 3, 4], [0, 2, 4, 6, 8]]\n"
     ]
    }
   ],
   "source": [
    "for row in range(rowNum): # for each row 1-3 (0-2 in python)\n",
    "    for col in range(colNum): # for each column 1-5 (0-4 in python)\n",
    "        multilist[row][col]= row*col\n",
    "\n",
    "# Example:\n",
    "# row = 0, col = 0:4 | 0*0, 0*1, 0*2, 0*3, 0*4 \n",
    "# row = 1, col = 0:4 | 1*0, 1*1, 1*2, 1*3, 1*4 \n",
    "\n",
    "print(multilist)"
   ]
  },
  {
   "cell_type": "code",
   "execution_count": 4,
   "metadata": {
    "collapsed": true
   },
   "outputs": [],
   "source": [
    "# delete variables in workspace before question 8\n",
    "%reset -sf"
   ]
  },
  {
   "cell_type": "markdown",
   "metadata": {
    "collapsed": false
   },
   "source": [
    "### Question 8\n",
    "Level 2\n",
    "\n",
    "Write a program that accepts a comma separated sequence of words as input and prints the words in a comma-separated sequence after sorting them alphabetically.\n",
    "\n",
    "**Suppose the following input is supplied to the program**:\n",
    "\n",
    "without,hello,bag,world\n",
    "\n",
    "**Then, the output should be**:\n",
    "\n",
    "bag,hello,without,world\n",
    "\n",
    "##### Hints:\n",
    "In case of input data being supplied to the question, it should be assumed to be a console input."
   ]
  },
  {
   "cell_type": "code",
   "execution_count": 10,
   "metadata": {
    "collapsed": false
   },
   "outputs": [
    {
     "name": "stdout",
     "output_type": "stream",
     "text": [
      "without,hello,bag,world\n",
      "\n",
      "Sorted: bag,hello,without,world\n"
     ]
    }
   ],
   "source": [
    "# ask user for input, obtain comma-seperated sequence (list)\n",
    "\n",
    "items=[x for x in input().split(',')]\n",
    "# sort the words in the list alphabetically\n",
    "items.sort()\n",
    "# print the alphabetically-sorted list\n",
    "print('\\r\\n' + 'Sorted: ' + ','.join(items))"
   ]
  },
  {
   "cell_type": "code",
   "execution_count": 11,
   "metadata": {
    "collapsed": true
   },
   "outputs": [],
   "source": [
    "# delete variables in workspace before question 8\n",
    "%reset -sf"
   ]
  },
  {
   "cell_type": "markdown",
   "metadata": {},
   "source": [
    "### Question 9\n",
    "Level 2\n",
    "\n",
    "Write a program that accepts a sequence of lines as input and prints the lines after making all characters in the sentence capitalized.\n",
    "\n",
    "**Suppose the following input is supplied to the program**:\n",
    "\n",
    "Hello world\n",
    "Practice makes perfect\n",
    "\n",
    "**Then, the output should be**:\n",
    "\n",
    "HELLO WORLD\n",
    "PRACTICE MAKES PERFECT\n",
    "\n",
    "##### Hints:\n",
    "In case of input data being supplied to the question, it should be assumed to be a console input."
   ]
  },
  {
   "cell_type": "code",
   "execution_count": 12,
   "metadata": {
    "collapsed": false
   },
   "outputs": [
    {
     "name": "stdout",
     "output_type": "stream",
     "text": [
      "hello\n",
      "how \n",
      "are\n",
      "you?\n",
      "\n"
     ]
    }
   ],
   "source": [
    "# create lines list object to append later\n",
    "lines = []\n",
    "# 'while true' -  executes the loop body while the expression evaluates to (boolean) \"true\".\n",
    "# In other words, it will continue to ask user for input (i.e. sequence of lines), unless 'enter'\n",
    "# is used without any string input (i.e. s doesn't exist anymore).\n",
    "while True:\n",
    "    # ask for user input\n",
    "    s = input()\n",
    "    # if s exists then convert to upper case\n",
    "    if s:\n",
    "        lines.append(s.upper())\n",
    "    else:\n",
    "        break;"
   ]
  },
  {
   "cell_type": "code",
   "execution_count": 13,
   "metadata": {
    "collapsed": false
   },
   "outputs": [
    {
     "name": "stdout",
     "output_type": "stream",
     "text": [
      "The concatenated upper case list:\r\n",
      "\n",
      "['HELLO', 'HOW ', 'ARE', 'YOU?']\n",
      "\r\n",
      "The sequence of upper case sentences:\r\n",
      "\n",
      "HELLO\n",
      "HOW \n",
      "ARE\n",
      "YOU?\n"
     ]
    }
   ],
   "source": [
    "# each s input is now concatenated together in 'lines' using '.append' above\n",
    "print(\"The concatenated upper case list:\\r\\n\")\n",
    "print(lines)\n",
    "# for each saved upper case line, print\n",
    "print(\"\\r\\nThe sequence of upper case sentences:\\r\\n\")\n",
    "for sentence in lines:\n",
    "    print(sentence)"
   ]
  },
  {
   "cell_type": "code",
   "execution_count": null,
   "metadata": {
    "collapsed": true
   },
   "outputs": [],
   "source": []
  }
 ],
 "metadata": {
  "kernelspec": {
   "display_name": "Python 3",
   "language": "python",
   "name": "python3"
  },
  "varInspector": {
   "cols": {
    "lenName": 16,
    "lenType": 16,
    "lenVar": 40
   },
   "kernels_config": {
    "python": {
     "delete_cmd_postfix": "",
     "delete_cmd_prefix": "del ",
     "library": "var_list.py",
     "varRefreshCmd": "print(var_dic_list())"
    },
    "r": {
     "delete_cmd_postfix": ") ",
     "delete_cmd_prefix": "rm(",
     "library": "var_list.r",
     "varRefreshCmd": "cat(var_dic_list()) "
    }
   },
   "position": {
    "height": "514px",
    "left": "478px",
    "right": "80px",
    "top": "9px",
    "width": "722px"
   },
   "types_to_exclude": [
    "module",
    "function",
    "builtin_function_or_method",
    "instance",
    "_Feature"
   ],
   "window_display": false
  }
 },
 "nbformat": 4,
 "nbformat_minor": 2
}
